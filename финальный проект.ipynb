{
 "cells": [
  {
   "cell_type": "markdown",
   "metadata": {},
   "source": [
    "# Игры — Анализ рекламных источников"
   ]
  },
  {
   "cell_type": "markdown",
   "metadata": {},
   "source": [
    "Цель: Анализ рекламных источников. Задача: Анализ поведения игроков в зависимости от источника перехода.\n",
    "Описание датасетов:\n",
    "\n",
    "Основной датасет содержит данные о событиях, совершенных в мобильной игре «Космические братья». В ней пользователи строят свою космическую программу и пытаются преуспеть в нелёгком деле колонизации галактики.\n",
    "\n",
    "Основная монетизация игры — только планируется. Но предполагается, что в приложении будет происходить показ рекламы на экране с выбором типа объекта для постройки.\n",
    "\n",
    "В датасете представлены данные по игре пользователей на первом уровне. Завершение первого уровня требует от игрока выполнения одного из двух условий:\n",
    "\n",
    "Победа над первым врагом\n",
    "Реализация проекта - разработка орбитальной сборки спутников\n",
    "В датасете содержатся данные первых пользователей приложения — когорты пользователей, которые начали пользоваться приложением в период с 4 по 10 мая включительно.\n",
    "\n",
    "Датасет game_actions.csv:\n",
    "\n",
    "event_datetime — время события;\n",
    "event — одно из трёх событий:\n",
    "building — объект построен,\n",
    "finished_stage_1 — первый уровень завершён,\n",
    "project — проект завершён;\n",
    "building_type — один из трёх типов здания:\n",
    "assembly_shop — сборочный цех,\n",
    "spaceport — космопорт,\n",
    "research_center — исследовательский центр;\n",
    "user_id — идентификатор пользователя;\n",
    "project_type — тип реализованного проекта;\n",
    "Помимо основного датасета есть два датасета с информацией о рекламных активностях. Они также помогут в решении задачи.\n",
    "\n",
    "Датасет ad_cost.csv:\n",
    "\n",
    "day - день, в который был совершен клик по объявлению\n",
    "source - источник трафика\n",
    "cost - стоимость кликов\n",
    "Датасет user_source.csv содержит колонки:\n",
    "\n",
    "user_id - идентификатор пользователя\n",
    "source - источников, с которого пришёл пользователь, установивший приложение\n",
    "\n",
    "\n",
    "\n",
    "\n",
    "Декомпозиция:\n",
    "1. Предобработка данных    \n",
    "    1.1 Чтение файлов    \n",
    "    1.2 Работа с  наименованием колонок, пропусков, дубликатов, типов данных    \n",
    "    1.3 Проверка и работа с аномальными значениями    \n",
    "    1.4 Вывод    \n",
    "2. Исследовательский анализ данных    \n",
    "    2.1 Анализ событий пользователей во времени    \n",
    "    2.2 Составление портрета пользователя. Анализ событий пользователей и типов реализованного проекта во времени с разбивкой по источникам   \n",
    "    2.3 Маркетинг. Затраты на рекламу. Стоимость привлечения пользователя. Конверсия.      \n",
    "    2.4 Вывод    \n",
    "3. Проверка гипотез    \n",
    "    3.1 Время завершения уровня различается в зависимости способа прохождения:   \n",
    "    - *через реализацию проекта,*    \n",
    "    - *через победу над первым игроком.*    \n",
    "    3.2 Переход на второй уровень зависит от источника привлечения    \n",
    "    3.3 Вывод    \n",
    "4. Итоги     \n",
    "5. Презентация    "
   ]
  },
  {
   "cell_type": "markdown",
   "metadata": {},
   "source": [
    "## Извлечение данных и предобработка."
   ]
  },
  {
   "cell_type": "code",
   "execution_count": 1,
   "metadata": {},
   "outputs": [
    {
     "data": {
      "text/html": [
       "        <script type=\"text/javascript\">\n",
       "        window.PlotlyConfig = {MathJaxConfig: 'local'};\n",
       "        if (window.MathJax) {MathJax.Hub.Config({SVG: {font: \"STIX-Web\"}});}\n",
       "        if (typeof require !== 'undefined') {\n",
       "        require.undef(\"plotly\");\n",
       "        requirejs.config({\n",
       "            paths: {\n",
       "                'plotly': ['https://cdn.plot.ly/plotly-2.6.3.min']\n",
       "            }\n",
       "        });\n",
       "        require(['plotly'], function(Plotly) {\n",
       "            window._Plotly = Plotly;\n",
       "        });\n",
       "        }\n",
       "        </script>\n",
       "        "
      ]
     },
     "metadata": {},
     "output_type": "display_data"
    }
   ],
   "source": [
    "import pandas as pd\n",
    "import matplotlib.pyplot as plt\n",
    "import seaborn as sns\n",
    "import matplotlib.ticker as ticker\n",
    "import numpy as np\n",
    "import datetime as dt\n",
    "import math as mth\n",
    "from scipy import stats as st\n",
    "from datetime import datetime, timedelta\n",
    "from plotly.offline import download_plotlyjs, init_notebook_mode, plot, iplot\n",
    "import plotly\n",
    "import plotly.graph_objs as go\n",
    "\n",
    "init_notebook_mode(connected=True)\n",
    "\n",
    "# код для отображения 200 столбцов в датасетах\n",
    "pd.options.display.max_columns = 200\n",
    "# отображение строчек без усечений\n",
    "pd.options.display.max_colwidth = 150"
   ]
  },
  {
   "cell_type": "code",
   "execution_count": 2,
   "metadata": {},
   "outputs": [],
   "source": [
    "game_actions =  pd.read_csv('/datasets/game_actions.csv', sep=',')\n",
    "user_source =  pd.read_csv('/datasets/user_source.csv', sep=',')\n",
    "ad_costs =  pd.read_csv('/datasets/ad_costs.csv', sep=',')"
   ]
  },
  {
   "cell_type": "markdown",
   "metadata": {},
   "source": [
    "### Предообработка game_actions"
   ]
  },
  {
   "cell_type": "code",
   "execution_count": 3,
   "metadata": {},
   "outputs": [
    {
     "name": "stdout",
     "output_type": "stream",
     "text": [
      "<class 'pandas.core.frame.DataFrame'>\n",
      "RangeIndex: 135640 entries, 0 to 135639\n",
      "Data columns (total 5 columns):\n",
      " #   Column          Non-Null Count   Dtype \n",
      "---  ------          --------------   ----- \n",
      " 0   event_datetime  135640 non-null  object\n",
      " 1   event           135640 non-null  object\n",
      " 2   building_type   127957 non-null  object\n",
      " 3   user_id         135640 non-null  object\n",
      " 4   project_type    1866 non-null    object\n",
      "dtypes: object(5)\n",
      "memory usage: 5.2+ MB\n"
     ]
    }
   ],
   "source": [
    "game_actions.info()"
   ]
  },
  {
   "cell_type": "markdown",
   "metadata": {},
   "source": [
    "Можем увидеть, что есть пропуски, неверный тип данных у даты"
   ]
  },
  {
   "cell_type": "code",
   "execution_count": 4,
   "metadata": {},
   "outputs": [
    {
     "data": {
      "text/html": [
       "<div>\n",
       "<style scoped>\n",
       "    .dataframe tbody tr th:only-of-type {\n",
       "        vertical-align: middle;\n",
       "    }\n",
       "\n",
       "    .dataframe tbody tr th {\n",
       "        vertical-align: top;\n",
       "    }\n",
       "\n",
       "    .dataframe thead th {\n",
       "        text-align: right;\n",
       "    }\n",
       "</style>\n",
       "<table border=\"1\" class=\"dataframe\">\n",
       "  <thead>\n",
       "    <tr style=\"text-align: right;\">\n",
       "      <th></th>\n",
       "      <th>event_datetime</th>\n",
       "      <th>event</th>\n",
       "      <th>building_type</th>\n",
       "      <th>user_id</th>\n",
       "      <th>project_type</th>\n",
       "    </tr>\n",
       "  </thead>\n",
       "  <tbody>\n",
       "    <tr>\n",
       "      <th>0</th>\n",
       "      <td>2020-05-04 00:00:01</td>\n",
       "      <td>building</td>\n",
       "      <td>assembly_shop</td>\n",
       "      <td>55e92310-cb8e-4754-b622-597e124b03de</td>\n",
       "      <td>NaN</td>\n",
       "    </tr>\n",
       "    <tr>\n",
       "      <th>1</th>\n",
       "      <td>2020-05-04 00:00:03</td>\n",
       "      <td>building</td>\n",
       "      <td>assembly_shop</td>\n",
       "      <td>c07b1c10-f477-44dc-81dc-ec82254b1347</td>\n",
       "      <td>NaN</td>\n",
       "    </tr>\n",
       "    <tr>\n",
       "      <th>2</th>\n",
       "      <td>2020-05-04 00:00:16</td>\n",
       "      <td>building</td>\n",
       "      <td>assembly_shop</td>\n",
       "      <td>6edd42cc-e753-4ff6-a947-2107cd560710</td>\n",
       "      <td>NaN</td>\n",
       "    </tr>\n",
       "    <tr>\n",
       "      <th>3</th>\n",
       "      <td>2020-05-04 00:00:16</td>\n",
       "      <td>building</td>\n",
       "      <td>assembly_shop</td>\n",
       "      <td>92c69003-d60a-444a-827f-8cc51bf6bf4c</td>\n",
       "      <td>NaN</td>\n",
       "    </tr>\n",
       "    <tr>\n",
       "      <th>4</th>\n",
       "      <td>2020-05-04 00:00:35</td>\n",
       "      <td>building</td>\n",
       "      <td>assembly_shop</td>\n",
       "      <td>cdc6bb92-0ccb-4490-9866-ef142f09139d</td>\n",
       "      <td>NaN</td>\n",
       "    </tr>\n",
       "  </tbody>\n",
       "</table>\n",
       "</div>"
      ],
      "text/plain": [
       "        event_datetime     event  building_type  \\\n",
       "0  2020-05-04 00:00:01  building  assembly_shop   \n",
       "1  2020-05-04 00:00:03  building  assembly_shop   \n",
       "2  2020-05-04 00:00:16  building  assembly_shop   \n",
       "3  2020-05-04 00:00:16  building  assembly_shop   \n",
       "4  2020-05-04 00:00:35  building  assembly_shop   \n",
       "\n",
       "                                user_id project_type  \n",
       "0  55e92310-cb8e-4754-b622-597e124b03de          NaN  \n",
       "1  c07b1c10-f477-44dc-81dc-ec82254b1347          NaN  \n",
       "2  6edd42cc-e753-4ff6-a947-2107cd560710          NaN  \n",
       "3  92c69003-d60a-444a-827f-8cc51bf6bf4c          NaN  \n",
       "4  cdc6bb92-0ccb-4490-9866-ef142f09139d          NaN  "
      ]
     },
     "execution_count": 4,
     "metadata": {},
     "output_type": "execute_result"
    }
   ],
   "source": [
    "# выведим первые строки\n",
    "game_actions.head()"
   ]
  },
  {
   "cell_type": "code",
   "execution_count": 5,
   "metadata": {},
   "outputs": [
    {
     "data": {
      "text/plain": [
       "event_datetime         0\n",
       "event                  0\n",
       "building_type       7683\n",
       "user_id                0\n",
       "project_type      133774\n",
       "dtype: int64"
      ]
     },
     "execution_count": 5,
     "metadata": {},
     "output_type": "execute_result"
    }
   ],
   "source": [
    "# посмотрим пропуски\n",
    "game_actions.isna().sum()"
   ]
  },
  {
   "cell_type": "code",
   "execution_count": 6,
   "metadata": {},
   "outputs": [
    {
     "data": {
      "text/plain": [
       "array(['assembly_shop', 'spaceport', nan, 'research_center'], dtype=object)"
      ]
     },
     "execution_count": 6,
     "metadata": {},
     "output_type": "execute_result"
    }
   ],
   "source": [
    "# посмотрим уникальные значения в строках, где есть пропуски\n",
    "game_actions['building_type'].unique()"
   ]
  },
  {
   "cell_type": "code",
   "execution_count": 7,
   "metadata": {},
   "outputs": [
    {
     "data": {
      "text/plain": [
       "array([nan, 'satellite_orbital_assembly'], dtype=object)"
      ]
     },
     "execution_count": 7,
     "metadata": {},
     "output_type": "execute_result"
    }
   ],
   "source": [
    "game_actions['project_type'].unique()"
   ]
  },
  {
   "cell_type": "code",
   "execution_count": 8,
   "metadata": {},
   "outputs": [
    {
     "data": {
      "text/html": [
       "<div>\n",
       "<style scoped>\n",
       "    .dataframe tbody tr th:only-of-type {\n",
       "        vertical-align: middle;\n",
       "    }\n",
       "\n",
       "    .dataframe tbody tr th {\n",
       "        vertical-align: top;\n",
       "    }\n",
       "\n",
       "    .dataframe thead th {\n",
       "        text-align: right;\n",
       "    }\n",
       "</style>\n",
       "<table border=\"1\" class=\"dataframe\">\n",
       "  <thead>\n",
       "    <tr style=\"text-align: right;\">\n",
       "      <th></th>\n",
       "      <th>event_datetime</th>\n",
       "      <th>event</th>\n",
       "      <th>building_type</th>\n",
       "      <th>user_id</th>\n",
       "      <th>project_type</th>\n",
       "    </tr>\n",
       "  </thead>\n",
       "  <tbody>\n",
       "    <tr>\n",
       "      <th>135635</th>\n",
       "      <td>2020-06-05 00:08:06</td>\n",
       "      <td>building</td>\n",
       "      <td>research_center</td>\n",
       "      <td>f21d179f-1c4b-437e-b9c6-ab1976907195</td>\n",
       "      <td>NaN</td>\n",
       "    </tr>\n",
       "    <tr>\n",
       "      <th>135636</th>\n",
       "      <td>2020-06-05 02:25:12</td>\n",
       "      <td>finished_stage_1</td>\n",
       "      <td>NaN</td>\n",
       "      <td>515c1952-99aa-4bca-a7ea-d0449eb5385a</td>\n",
       "      <td>NaN</td>\n",
       "    </tr>\n",
       "    <tr>\n",
       "      <th>135637</th>\n",
       "      <td>2020-06-05 08:57:52</td>\n",
       "      <td>building</td>\n",
       "      <td>research_center</td>\n",
       "      <td>ed3e7d02-8a96-4be7-9998-e9813ff9c316</td>\n",
       "      <td>NaN</td>\n",
       "    </tr>\n",
       "    <tr>\n",
       "      <th>135638</th>\n",
       "      <td>2020-06-05 12:12:27</td>\n",
       "      <td>finished_stage_1</td>\n",
       "      <td>NaN</td>\n",
       "      <td>32572adb-900f-4b5d-a453-1eb1e6d88d8b</td>\n",
       "      <td>NaN</td>\n",
       "    </tr>\n",
       "    <tr>\n",
       "      <th>135639</th>\n",
       "      <td>2020-06-05 12:32:49</td>\n",
       "      <td>finished_stage_1</td>\n",
       "      <td>NaN</td>\n",
       "      <td>f21d179f-1c4b-437e-b9c6-ab1976907195</td>\n",
       "      <td>NaN</td>\n",
       "    </tr>\n",
       "  </tbody>\n",
       "</table>\n",
       "</div>"
      ],
      "text/plain": [
       "             event_datetime             event    building_type  \\\n",
       "135635  2020-06-05 00:08:06          building  research_center   \n",
       "135636  2020-06-05 02:25:12  finished_stage_1              NaN   \n",
       "135637  2020-06-05 08:57:52          building  research_center   \n",
       "135638  2020-06-05 12:12:27  finished_stage_1              NaN   \n",
       "135639  2020-06-05 12:32:49  finished_stage_1              NaN   \n",
       "\n",
       "                                     user_id project_type  \n",
       "135635  f21d179f-1c4b-437e-b9c6-ab1976907195          NaN  \n",
       "135636  515c1952-99aa-4bca-a7ea-d0449eb5385a          NaN  \n",
       "135637  ed3e7d02-8a96-4be7-9998-e9813ff9c316          NaN  \n",
       "135638  32572adb-900f-4b5d-a453-1eb1e6d88d8b          NaN  \n",
       "135639  f21d179f-1c4b-437e-b9c6-ab1976907195          NaN  "
      ]
     },
     "execution_count": 8,
     "metadata": {},
     "output_type": "execute_result"
    }
   ],
   "source": [
    "# выведим строки, где пропуски в project_type \n",
    "game_actions[game_actions['project_type'].isna()].tail()"
   ]
  },
  {
   "cell_type": "code",
   "execution_count": 9,
   "metadata": {},
   "outputs": [
    {
     "data": {
      "text/plain": [
       "array(['building', 'finished_stage_1'], dtype=object)"
      ]
     },
     "execution_count": 9,
     "metadata": {},
     "output_type": "execute_result"
    }
   ],
   "source": [
    "game_actions[game_actions['project_type'].isna()]['event'].unique() "
   ]
  },
  {
   "cell_type": "markdown",
   "metadata": {},
   "source": [
    "В game_actions пропуски в том случае, если построен объект или завершен первый уровень, значит скорей всего завершен победой pvp. Поэтому данные пропуски можно заменить на pvp, у тех кто завершил первый уровень, а у тех кто нет пометить, что первый уровень."
   ]
  },
  {
   "cell_type": "code",
   "execution_count": 10,
   "metadata": {},
   "outputs": [
    {
     "data": {
      "text/html": [
       "<div>\n",
       "<style scoped>\n",
       "    .dataframe tbody tr th:only-of-type {\n",
       "        vertical-align: middle;\n",
       "    }\n",
       "\n",
       "    .dataframe tbody tr th {\n",
       "        vertical-align: top;\n",
       "    }\n",
       "\n",
       "    .dataframe thead th {\n",
       "        text-align: right;\n",
       "    }\n",
       "</style>\n",
       "<table border=\"1\" class=\"dataframe\">\n",
       "  <thead>\n",
       "    <tr style=\"text-align: right;\">\n",
       "      <th></th>\n",
       "      <th>event_datetime</th>\n",
       "      <th>event</th>\n",
       "      <th>building_type</th>\n",
       "      <th>user_id</th>\n",
       "      <th>project_type</th>\n",
       "    </tr>\n",
       "  </thead>\n",
       "  <tbody>\n",
       "    <tr>\n",
       "      <th>135632</th>\n",
       "      <td>2020-06-04 15:50:38</td>\n",
       "      <td>finished_stage_1</td>\n",
       "      <td>NaN</td>\n",
       "      <td>22cce310-fe10-41a2-941b-9c3d63327fea</td>\n",
       "      <td>NaN</td>\n",
       "    </tr>\n",
       "    <tr>\n",
       "      <th>135633</th>\n",
       "      <td>2020-06-04 17:56:14</td>\n",
       "      <td>finished_stage_1</td>\n",
       "      <td>NaN</td>\n",
       "      <td>d477dde8-7c22-4f23-9c4f-4ec31a1aa4c8</td>\n",
       "      <td>NaN</td>\n",
       "    </tr>\n",
       "    <tr>\n",
       "      <th>135636</th>\n",
       "      <td>2020-06-05 02:25:12</td>\n",
       "      <td>finished_stage_1</td>\n",
       "      <td>NaN</td>\n",
       "      <td>515c1952-99aa-4bca-a7ea-d0449eb5385a</td>\n",
       "      <td>NaN</td>\n",
       "    </tr>\n",
       "    <tr>\n",
       "      <th>135638</th>\n",
       "      <td>2020-06-05 12:12:27</td>\n",
       "      <td>finished_stage_1</td>\n",
       "      <td>NaN</td>\n",
       "      <td>32572adb-900f-4b5d-a453-1eb1e6d88d8b</td>\n",
       "      <td>NaN</td>\n",
       "    </tr>\n",
       "    <tr>\n",
       "      <th>135639</th>\n",
       "      <td>2020-06-05 12:32:49</td>\n",
       "      <td>finished_stage_1</td>\n",
       "      <td>NaN</td>\n",
       "      <td>f21d179f-1c4b-437e-b9c6-ab1976907195</td>\n",
       "      <td>NaN</td>\n",
       "    </tr>\n",
       "  </tbody>\n",
       "</table>\n",
       "</div>"
      ],
      "text/plain": [
       "             event_datetime             event building_type  \\\n",
       "135632  2020-06-04 15:50:38  finished_stage_1           NaN   \n",
       "135633  2020-06-04 17:56:14  finished_stage_1           NaN   \n",
       "135636  2020-06-05 02:25:12  finished_stage_1           NaN   \n",
       "135638  2020-06-05 12:12:27  finished_stage_1           NaN   \n",
       "135639  2020-06-05 12:32:49  finished_stage_1           NaN   \n",
       "\n",
       "                                     user_id project_type  \n",
       "135632  22cce310-fe10-41a2-941b-9c3d63327fea          NaN  \n",
       "135633  d477dde8-7c22-4f23-9c4f-4ec31a1aa4c8          NaN  \n",
       "135636  515c1952-99aa-4bca-a7ea-d0449eb5385a          NaN  \n",
       "135638  32572adb-900f-4b5d-a453-1eb1e6d88d8b          NaN  \n",
       "135639  f21d179f-1c4b-437e-b9c6-ab1976907195          NaN  "
      ]
     },
     "execution_count": 10,
     "metadata": {},
     "output_type": "execute_result"
    }
   ],
   "source": [
    "# выведим строки, где пропуски в building_type \n",
    "game_actions[game_actions['building_type'].isna()].tail()"
   ]
  },
  {
   "cell_type": "code",
   "execution_count": 11,
   "metadata": {},
   "outputs": [
    {
     "data": {
      "text/plain": [
       "array(['finished_stage_1', 'project'], dtype=object)"
      ]
     },
     "execution_count": 11,
     "metadata": {},
     "output_type": "execute_result"
    }
   ],
   "source": [
    "game_actions[game_actions['building_type'].isna()]['event'].unique() "
   ]
  },
  {
   "cell_type": "markdown",
   "metadata": {},
   "source": [
    "В building_type пропуски в том случае, если построен завершен проект или завершен первый уровень, значит игрок перешел на второй уровень."
   ]
  },
  {
   "cell_type": "code",
   "execution_count": 12,
   "metadata": {},
   "outputs": [
    {
     "data": {
      "text/plain": [
       "1"
      ]
     },
     "execution_count": 12,
     "metadata": {},
     "output_type": "execute_result"
    }
   ],
   "source": [
    "# проверка на дубликаты\n",
    "game_actions.duplicated().sum()"
   ]
  },
  {
   "cell_type": "code",
   "execution_count": 13,
   "metadata": {},
   "outputs": [
    {
     "data": {
      "text/html": [
       "<div>\n",
       "<style scoped>\n",
       "    .dataframe tbody tr th:only-of-type {\n",
       "        vertical-align: middle;\n",
       "    }\n",
       "\n",
       "    .dataframe tbody tr th {\n",
       "        vertical-align: top;\n",
       "    }\n",
       "\n",
       "    .dataframe thead th {\n",
       "        text-align: right;\n",
       "    }\n",
       "</style>\n",
       "<table border=\"1\" class=\"dataframe\">\n",
       "  <thead>\n",
       "    <tr style=\"text-align: right;\">\n",
       "      <th></th>\n",
       "      <th>event_datetime</th>\n",
       "      <th>event</th>\n",
       "      <th>building_type</th>\n",
       "      <th>user_id</th>\n",
       "      <th>project_type</th>\n",
       "    </tr>\n",
       "  </thead>\n",
       "  <tbody>\n",
       "    <tr>\n",
       "      <th>count</th>\n",
       "      <td>135640</td>\n",
       "      <td>135640</td>\n",
       "      <td>127957</td>\n",
       "      <td>135640</td>\n",
       "      <td>1866</td>\n",
       "    </tr>\n",
       "    <tr>\n",
       "      <th>unique</th>\n",
       "      <td>128790</td>\n",
       "      <td>3</td>\n",
       "      <td>3</td>\n",
       "      <td>13576</td>\n",
       "      <td>1</td>\n",
       "    </tr>\n",
       "    <tr>\n",
       "      <th>top</th>\n",
       "      <td>2020-05-08 22:30:04</td>\n",
       "      <td>building</td>\n",
       "      <td>spaceport</td>\n",
       "      <td>bf542075-e3a2-4e79-82d8-3838e86d2a25</td>\n",
       "      <td>satellite_orbital_assembly</td>\n",
       "    </tr>\n",
       "    <tr>\n",
       "      <th>freq</th>\n",
       "      <td>4</td>\n",
       "      <td>127957</td>\n",
       "      <td>59325</td>\n",
       "      <td>22</td>\n",
       "      <td>1866</td>\n",
       "    </tr>\n",
       "  </tbody>\n",
       "</table>\n",
       "</div>"
      ],
      "text/plain": [
       "             event_datetime     event building_type  \\\n",
       "count                135640    135640        127957   \n",
       "unique               128790         3             3   \n",
       "top     2020-05-08 22:30:04  building     spaceport   \n",
       "freq                      4    127957         59325   \n",
       "\n",
       "                                     user_id                project_type  \n",
       "count                                 135640                        1866  \n",
       "unique                                 13576                           1  \n",
       "top     bf542075-e3a2-4e79-82d8-3838e86d2a25  satellite_orbital_assembly  \n",
       "freq                                      22                        1866  "
      ]
     },
     "execution_count": 13,
     "metadata": {},
     "output_type": "execute_result"
    }
   ],
   "source": [
    "# проверка на анамалии\n",
    "game_actions.describe()"
   ]
  },
  {
   "cell_type": "markdown",
   "metadata": {},
   "source": [
    "По первому датасету необходимо: \n",
    "- изменить тип данных \n",
    "- заменить пропуски   \n",
    "- удалить дубликаты        \n",
    "Аномальных значений не обнаружено."
   ]
  },
  {
   "cell_type": "code",
   "execution_count": 14,
   "metadata": {},
   "outputs": [
    {
     "name": "stdout",
     "output_type": "stream",
     "text": [
      "datetime64[ns]\n"
     ]
    }
   ],
   "source": [
    "# изменим тип данных и проверим\n",
    "game_actions['event_datetime'] = pd.to_datetime(game_actions['event_datetime'])\n",
    "print(game_actions['event_datetime'].dtypes)"
   ]
  },
  {
   "cell_type": "code",
   "execution_count": 15,
   "metadata": {},
   "outputs": [],
   "source": [
    "# замена пропусков project_type\n",
    "game_actions.loc[game_actions['project_type'].isna() & (game_actions['event'] == 'finished_stage_1'),\n",
    "                                                                                  'project_type'] = 'pvp'\n",
    "game_actions.loc[game_actions['project_type'].isna(), 'project_type'] = 'first_level'"
   ]
  },
  {
   "cell_type": "code",
   "execution_count": 16,
   "metadata": {},
   "outputs": [
    {
     "data": {
      "text/plain": [
       "first_level                   127957\n",
       "pvp                             5817\n",
       "satellite_orbital_assembly      1866\n",
       "Name: project_type, dtype: int64"
      ]
     },
     "execution_count": 16,
     "metadata": {},
     "output_type": "execute_result"
    }
   ],
   "source": [
    "game_actions['project_type'].value_counts()"
   ]
  },
  {
   "cell_type": "code",
   "execution_count": 17,
   "metadata": {},
   "outputs": [
    {
     "data": {
      "text/plain": [
       "array(['pvp', 'satellite_orbital_assembly'], dtype=object)"
      ]
     },
     "execution_count": 17,
     "metadata": {},
     "output_type": "execute_result"
    }
   ],
   "source": [
    "game_actions[game_actions['building_type'].isna()]['project_type'].unique()"
   ]
  },
  {
   "cell_type": "code",
   "execution_count": 18,
   "metadata": {},
   "outputs": [
    {
     "data": {
      "text/plain": [
       "spaceport          59325\n",
       "assembly_shop      54494\n",
       "research_center    14138\n",
       "second_level        7683\n",
       "Name: building_type, dtype: int64"
      ]
     },
     "execution_count": 18,
     "metadata": {},
     "output_type": "execute_result"
    }
   ],
   "source": [
    "# замена пропусков building_type\n",
    "game_actions['building_type'] = game_actions['building_type'].fillna('second_level')\n",
    "game_actions['building_type'].value_counts()"
   ]
  },
  {
   "cell_type": "code",
   "execution_count": 19,
   "metadata": {},
   "outputs": [
    {
     "data": {
      "text/plain": [
       "0"
      ]
     },
     "execution_count": 19,
     "metadata": {},
     "output_type": "execute_result"
    }
   ],
   "source": [
    "# удаляем дубликаты\n",
    "game_actions = game_actions.drop_duplicates()\n",
    "game_actions.duplicated().sum()"
   ]
  },
  {
   "cell_type": "code",
   "execution_count": 20,
   "metadata": {},
   "outputs": [
    {
     "name": "stdout",
     "output_type": "stream",
     "text": [
      "<class 'pandas.core.frame.DataFrame'>\n",
      "Int64Index: 135639 entries, 0 to 135639\n",
      "Data columns (total 5 columns):\n",
      " #   Column          Non-Null Count   Dtype         \n",
      "---  ------          --------------   -----         \n",
      " 0   event_datetime  135639 non-null  datetime64[ns]\n",
      " 1   event           135639 non-null  object        \n",
      " 2   building_type   135639 non-null  object        \n",
      " 3   user_id         135639 non-null  object        \n",
      " 4   project_type    135639 non-null  object        \n",
      "dtypes: datetime64[ns](1), object(4)\n",
      "memory usage: 6.2+ MB\n"
     ]
    }
   ],
   "source": [
    "# проверка\n",
    "game_actions.info()"
   ]
  },
  {
   "cell_type": "markdown",
   "metadata": {},
   "source": [
    "### Предообработка user_source и ad_costs"
   ]
  },
  {
   "cell_type": "code",
   "execution_count": 21,
   "metadata": {},
   "outputs": [
    {
     "name": "stdout",
     "output_type": "stream",
     "text": [
      "<class 'pandas.core.frame.DataFrame'>\n",
      "RangeIndex: 13576 entries, 0 to 13575\n",
      "Data columns (total 2 columns):\n",
      " #   Column   Non-Null Count  Dtype \n",
      "---  ------   --------------  ----- \n",
      " 0   user_id  13576 non-null  object\n",
      " 1   source   13576 non-null  object\n",
      "dtypes: object(2)\n",
      "memory usage: 212.2+ KB\n"
     ]
    }
   ],
   "source": [
    "user_source.info()"
   ]
  },
  {
   "cell_type": "code",
   "execution_count": 22,
   "metadata": {},
   "outputs": [
    {
     "name": "stdout",
     "output_type": "stream",
     "text": [
      "<class 'pandas.core.frame.DataFrame'>\n",
      "RangeIndex: 28 entries, 0 to 27\n",
      "Data columns (total 3 columns):\n",
      " #   Column  Non-Null Count  Dtype  \n",
      "---  ------  --------------  -----  \n",
      " 0   source  28 non-null     object \n",
      " 1   day     28 non-null     object \n",
      " 2   cost    28 non-null     float64\n",
      "dtypes: float64(1), object(2)\n",
      "memory usage: 800.0+ bytes\n"
     ]
    }
   ],
   "source": [
    "ad_costs.info()"
   ]
  },
  {
   "cell_type": "code",
   "execution_count": 23,
   "metadata": {},
   "outputs": [
    {
     "data": {
      "text/plain": [
       "array(['facebook_ads', 'yandex_direct', 'youtube_channel_reklama',\n",
       "       'instagram_new_adverts'], dtype=object)"
      ]
     },
     "execution_count": 23,
     "metadata": {},
     "output_type": "execute_result"
    }
   ],
   "source": [
    "user_source['source'].unique()"
   ]
  },
  {
   "cell_type": "code",
   "execution_count": 24,
   "metadata": {},
   "outputs": [
    {
     "data": {
      "text/plain": [
       "0"
      ]
     },
     "execution_count": 24,
     "metadata": {},
     "output_type": "execute_result"
    }
   ],
   "source": [
    "user_source.duplicated().sum()"
   ]
  },
  {
   "cell_type": "code",
   "execution_count": 25,
   "metadata": {
    "scrolled": true
   },
   "outputs": [
    {
     "data": {
      "text/html": [
       "<div>\n",
       "<style scoped>\n",
       "    .dataframe tbody tr th:only-of-type {\n",
       "        vertical-align: middle;\n",
       "    }\n",
       "\n",
       "    .dataframe tbody tr th {\n",
       "        vertical-align: top;\n",
       "    }\n",
       "\n",
       "    .dataframe thead th {\n",
       "        text-align: right;\n",
       "    }\n",
       "</style>\n",
       "<table border=\"1\" class=\"dataframe\">\n",
       "  <thead>\n",
       "    <tr style=\"text-align: right;\">\n",
       "      <th></th>\n",
       "      <th>source</th>\n",
       "      <th>day</th>\n",
       "      <th>cost</th>\n",
       "    </tr>\n",
       "  </thead>\n",
       "  <tbody>\n",
       "    <tr>\n",
       "      <th>0</th>\n",
       "      <td>facebook_ads</td>\n",
       "      <td>2020-05-03</td>\n",
       "      <td>935.882786</td>\n",
       "    </tr>\n",
       "    <tr>\n",
       "      <th>1</th>\n",
       "      <td>facebook_ads</td>\n",
       "      <td>2020-05-04</td>\n",
       "      <td>548.354480</td>\n",
       "    </tr>\n",
       "    <tr>\n",
       "      <th>2</th>\n",
       "      <td>facebook_ads</td>\n",
       "      <td>2020-05-05</td>\n",
       "      <td>260.185754</td>\n",
       "    </tr>\n",
       "    <tr>\n",
       "      <th>3</th>\n",
       "      <td>facebook_ads</td>\n",
       "      <td>2020-05-06</td>\n",
       "      <td>177.982200</td>\n",
       "    </tr>\n",
       "    <tr>\n",
       "      <th>4</th>\n",
       "      <td>facebook_ads</td>\n",
       "      <td>2020-05-07</td>\n",
       "      <td>111.766796</td>\n",
       "    </tr>\n",
       "    <tr>\n",
       "      <th>5</th>\n",
       "      <td>facebook_ads</td>\n",
       "      <td>2020-05-08</td>\n",
       "      <td>68.009276</td>\n",
       "    </tr>\n",
       "    <tr>\n",
       "      <th>6</th>\n",
       "      <td>facebook_ads</td>\n",
       "      <td>2020-05-09</td>\n",
       "      <td>38.723350</td>\n",
       "    </tr>\n",
       "    <tr>\n",
       "      <th>7</th>\n",
       "      <td>instagram_new_adverts</td>\n",
       "      <td>2020-05-03</td>\n",
       "      <td>943.204717</td>\n",
       "    </tr>\n",
       "    <tr>\n",
       "      <th>8</th>\n",
       "      <td>instagram_new_adverts</td>\n",
       "      <td>2020-05-04</td>\n",
       "      <td>502.925451</td>\n",
       "    </tr>\n",
       "    <tr>\n",
       "      <th>9</th>\n",
       "      <td>instagram_new_adverts</td>\n",
       "      <td>2020-05-05</td>\n",
       "      <td>313.970984</td>\n",
       "    </tr>\n",
       "    <tr>\n",
       "      <th>10</th>\n",
       "      <td>instagram_new_adverts</td>\n",
       "      <td>2020-05-06</td>\n",
       "      <td>173.071145</td>\n",
       "    </tr>\n",
       "    <tr>\n",
       "      <th>11</th>\n",
       "      <td>instagram_new_adverts</td>\n",
       "      <td>2020-05-07</td>\n",
       "      <td>109.915254</td>\n",
       "    </tr>\n",
       "    <tr>\n",
       "      <th>12</th>\n",
       "      <td>instagram_new_adverts</td>\n",
       "      <td>2020-05-08</td>\n",
       "      <td>71.578739</td>\n",
       "    </tr>\n",
       "    <tr>\n",
       "      <th>13</th>\n",
       "      <td>instagram_new_adverts</td>\n",
       "      <td>2020-05-09</td>\n",
       "      <td>46.775400</td>\n",
       "    </tr>\n",
       "    <tr>\n",
       "      <th>14</th>\n",
       "      <td>yandex_direct</td>\n",
       "      <td>2020-05-03</td>\n",
       "      <td>969.139394</td>\n",
       "    </tr>\n",
       "    <tr>\n",
       "      <th>15</th>\n",
       "      <td>yandex_direct</td>\n",
       "      <td>2020-05-04</td>\n",
       "      <td>554.651494</td>\n",
       "    </tr>\n",
       "    <tr>\n",
       "      <th>16</th>\n",
       "      <td>yandex_direct</td>\n",
       "      <td>2020-05-05</td>\n",
       "      <td>308.232990</td>\n",
       "    </tr>\n",
       "    <tr>\n",
       "      <th>17</th>\n",
       "      <td>yandex_direct</td>\n",
       "      <td>2020-05-06</td>\n",
       "      <td>180.917099</td>\n",
       "    </tr>\n",
       "    <tr>\n",
       "      <th>18</th>\n",
       "      <td>yandex_direct</td>\n",
       "      <td>2020-05-07</td>\n",
       "      <td>114.429338</td>\n",
       "    </tr>\n",
       "    <tr>\n",
       "      <th>19</th>\n",
       "      <td>yandex_direct</td>\n",
       "      <td>2020-05-08</td>\n",
       "      <td>62.961630</td>\n",
       "    </tr>\n",
       "    <tr>\n",
       "      <th>20</th>\n",
       "      <td>yandex_direct</td>\n",
       "      <td>2020-05-09</td>\n",
       "      <td>42.779505</td>\n",
       "    </tr>\n",
       "    <tr>\n",
       "      <th>21</th>\n",
       "      <td>youtube_channel_reklama</td>\n",
       "      <td>2020-05-03</td>\n",
       "      <td>454.224943</td>\n",
       "    </tr>\n",
       "    <tr>\n",
       "      <th>22</th>\n",
       "      <td>youtube_channel_reklama</td>\n",
       "      <td>2020-05-04</td>\n",
       "      <td>259.073224</td>\n",
       "    </tr>\n",
       "    <tr>\n",
       "      <th>23</th>\n",
       "      <td>youtube_channel_reklama</td>\n",
       "      <td>2020-05-05</td>\n",
       "      <td>147.041741</td>\n",
       "    </tr>\n",
       "    <tr>\n",
       "      <th>24</th>\n",
       "      <td>youtube_channel_reklama</td>\n",
       "      <td>2020-05-06</td>\n",
       "      <td>88.506074</td>\n",
       "    </tr>\n",
       "    <tr>\n",
       "      <th>25</th>\n",
       "      <td>youtube_channel_reklama</td>\n",
       "      <td>2020-05-07</td>\n",
       "      <td>55.740645</td>\n",
       "    </tr>\n",
       "    <tr>\n",
       "      <th>26</th>\n",
       "      <td>youtube_channel_reklama</td>\n",
       "      <td>2020-05-08</td>\n",
       "      <td>40.217907</td>\n",
       "    </tr>\n",
       "    <tr>\n",
       "      <th>27</th>\n",
       "      <td>youtube_channel_reklama</td>\n",
       "      <td>2020-05-09</td>\n",
       "      <td>23.314669</td>\n",
       "    </tr>\n",
       "  </tbody>\n",
       "</table>\n",
       "</div>"
      ],
      "text/plain": [
       "                     source         day        cost\n",
       "0              facebook_ads  2020-05-03  935.882786\n",
       "1              facebook_ads  2020-05-04  548.354480\n",
       "2              facebook_ads  2020-05-05  260.185754\n",
       "3              facebook_ads  2020-05-06  177.982200\n",
       "4              facebook_ads  2020-05-07  111.766796\n",
       "5              facebook_ads  2020-05-08   68.009276\n",
       "6              facebook_ads  2020-05-09   38.723350\n",
       "7     instagram_new_adverts  2020-05-03  943.204717\n",
       "8     instagram_new_adverts  2020-05-04  502.925451\n",
       "9     instagram_new_adverts  2020-05-05  313.970984\n",
       "10    instagram_new_adverts  2020-05-06  173.071145\n",
       "11    instagram_new_adverts  2020-05-07  109.915254\n",
       "12    instagram_new_adverts  2020-05-08   71.578739\n",
       "13    instagram_new_adverts  2020-05-09   46.775400\n",
       "14            yandex_direct  2020-05-03  969.139394\n",
       "15            yandex_direct  2020-05-04  554.651494\n",
       "16            yandex_direct  2020-05-05  308.232990\n",
       "17            yandex_direct  2020-05-06  180.917099\n",
       "18            yandex_direct  2020-05-07  114.429338\n",
       "19            yandex_direct  2020-05-08   62.961630\n",
       "20            yandex_direct  2020-05-09   42.779505\n",
       "21  youtube_channel_reklama  2020-05-03  454.224943\n",
       "22  youtube_channel_reklama  2020-05-04  259.073224\n",
       "23  youtube_channel_reklama  2020-05-05  147.041741\n",
       "24  youtube_channel_reklama  2020-05-06   88.506074\n",
       "25  youtube_channel_reklama  2020-05-07   55.740645\n",
       "26  youtube_channel_reklama  2020-05-08   40.217907\n",
       "27  youtube_channel_reklama  2020-05-09   23.314669"
      ]
     },
     "execution_count": 25,
     "metadata": {},
     "output_type": "execute_result"
    }
   ],
   "source": [
    "ad_costs"
   ]
  },
  {
   "cell_type": "code",
   "execution_count": 26,
   "metadata": {},
   "outputs": [
    {
     "data": {
      "text/plain": [
       "0"
      ]
     },
     "execution_count": 26,
     "metadata": {},
     "output_type": "execute_result"
    }
   ],
   "source": [
    "ad_costs.duplicated().sum()"
   ]
  },
  {
   "cell_type": "markdown",
   "metadata": {},
   "source": [
    "Пропусков в этих датасетах не обнаружено, дубликатов и аномальных значений тоже не обнаружено. Необходимо только изменить тип данных у даты."
   ]
  },
  {
   "cell_type": "code",
   "execution_count": 27,
   "metadata": {},
   "outputs": [
    {
     "name": "stdout",
     "output_type": "stream",
     "text": [
      "datetime64[ns]\n"
     ]
    }
   ],
   "source": [
    "ad_costs['day'] = pd.to_datetime(ad_costs['day'])\n",
    "print(ad_costs['day'].dtypes)"
   ]
  },
  {
   "cell_type": "markdown",
   "metadata": {},
   "source": [
    "### Вывод"
   ]
  },
  {
   "cell_type": "markdown",
   "metadata": {},
   "source": [
    "В время предообработки данных мы проверили 3 датасета на пропуски, дубликаты, аномалии. Поработали с пропусками, удалили дубликаты и изменили тип данных. Теперь наши данные готовы для анализа"
   ]
  },
  {
   "cell_type": "markdown",
   "metadata": {},
   "source": [
    "## Исследовательский анализ данных"
   ]
  },
  {
   "cell_type": "markdown",
   "metadata": {},
   "source": [
    "### Анализ событий пользователей во времени"
   ]
  },
  {
   "cell_type": "code",
   "execution_count": 28,
   "metadata": {},
   "outputs": [
    {
     "name": "stdout",
     "output_type": "stream",
     "text": [
      "Количествово пользователей = 13576\n",
      "Количествово событий = 135639\n"
     ]
    }
   ],
   "source": [
    "print(\"Количествово пользователей =\", game_actions['user_id'].nunique())\n",
    "print(\"Количествово событий =\", game_actions['event'].count())"
   ]
  },
  {
   "cell_type": "code",
   "execution_count": 29,
   "metadata": {},
   "outputs": [
    {
     "name": "stdout",
     "output_type": "stream",
     "text": [
      "Среднее количество событий на пользователя - 10.0\n"
     ]
    }
   ],
   "source": [
    "med = game_actions.groupby('user_id')['user_id'].count()\n",
    "print(\"Среднее количество событий на пользователя -\", med.median())"
   ]
  },
  {
   "cell_type": "code",
   "execution_count": 30,
   "metadata": {},
   "outputs": [
    {
     "name": "stdout",
     "output_type": "stream",
     "text": [
      "2020-05-04 00:00:01\n",
      "2020-06-05 12:32:49\n"
     ]
    }
   ],
   "source": [
    "# проверка дат\n",
    "print(game_actions['event_datetime'].min())\n",
    "print(game_actions['event_datetime'].max())"
   ]
  },
  {
   "cell_type": "code",
   "execution_count": 31,
   "metadata": {},
   "outputs": [
    {
     "data": {
      "text/plain": [
       "Text(0, 0.5, 'Кол-во событий')"
      ]
     },
     "execution_count": 31,
     "metadata": {},
     "output_type": "execute_result"
    },
    {
     "data": {
      "image/png": "[encoded data removed]",
      "text/plain": [
       "<Figure size 1008x360 with 1 Axes>"
      ]
     },
     "metadata": {
      "needs_background": "light"
     },
     "output_type": "display_data"
    }
   ],
   "source": [
    "# построим гистограмму по дате\n",
    "plt.figure(figsize=(14,5))\n",
    "game_actions['event_datetime'].hist(bins=15)\n",
    "plt.title('События в игре')\n",
    "plt.xlabel('Дата')\n",
    "plt.ylabel('Кол-во событий')"
   ]
  },
  {
   "cell_type": "markdown",
   "metadata": {},
   "source": [
    "По графику видно, что пользователи были активны с 4 по 10 мая, поток в начале большой, но интересно, что с увеличением этой группы в течение месяца группа просто играющих резко сократилась. "
   ]
  },
  {
   "cell_type": "markdown",
   "metadata": {},
   "source": [
    "### Составление портрета пользователя. Анализ событий пользователей и типов реализованного проекта во времени с разбивкой по источникам "
   ]
  },
  {
   "cell_type": "code",
   "execution_count": 32,
   "metadata": {},
   "outputs": [
    {
     "data": {
      "text/html": [
       "<div>\n",
       "<style scoped>\n",
       "    .dataframe tbody tr th:only-of-type {\n",
       "        vertical-align: middle;\n",
       "    }\n",
       "\n",
       "    .dataframe tbody tr th {\n",
       "        vertical-align: top;\n",
       "    }\n",
       "\n",
       "    .dataframe thead th {\n",
       "        text-align: right;\n",
       "    }\n",
       "</style>\n",
       "<table border=\"1\" class=\"dataframe\">\n",
       "  <thead>\n",
       "    <tr style=\"text-align: right;\">\n",
       "      <th></th>\n",
       "      <th>event_datetime</th>\n",
       "      <th>event</th>\n",
       "      <th>building_type</th>\n",
       "      <th>user_id</th>\n",
       "      <th>project_type</th>\n",
       "      <th>source</th>\n",
       "    </tr>\n",
       "  </thead>\n",
       "  <tbody>\n",
       "    <tr>\n",
       "      <th>0</th>\n",
       "      <td>2020-05-04 00:00:01</td>\n",
       "      <td>building</td>\n",
       "      <td>assembly_shop</td>\n",
       "      <td>55e92310-cb8e-4754-b622-597e124b03de</td>\n",
       "      <td>first_level</td>\n",
       "      <td>youtube_channel_reklama</td>\n",
       "    </tr>\n",
       "    <tr>\n",
       "      <th>1</th>\n",
       "      <td>2020-05-04 00:00:03</td>\n",
       "      <td>building</td>\n",
       "      <td>assembly_shop</td>\n",
       "      <td>c07b1c10-f477-44dc-81dc-ec82254b1347</td>\n",
       "      <td>first_level</td>\n",
       "      <td>facebook_ads</td>\n",
       "    </tr>\n",
       "    <tr>\n",
       "      <th>2</th>\n",
       "      <td>2020-05-04 00:00:16</td>\n",
       "      <td>building</td>\n",
       "      <td>assembly_shop</td>\n",
       "      <td>6edd42cc-e753-4ff6-a947-2107cd560710</td>\n",
       "      <td>first_level</td>\n",
       "      <td>instagram_new_adverts</td>\n",
       "    </tr>\n",
       "    <tr>\n",
       "      <th>3</th>\n",
       "      <td>2020-05-04 00:00:16</td>\n",
       "      <td>building</td>\n",
       "      <td>assembly_shop</td>\n",
       "      <td>92c69003-d60a-444a-827f-8cc51bf6bf4c</td>\n",
       "      <td>first_level</td>\n",
       "      <td>facebook_ads</td>\n",
       "    </tr>\n",
       "    <tr>\n",
       "      <th>4</th>\n",
       "      <td>2020-05-04 00:00:35</td>\n",
       "      <td>building</td>\n",
       "      <td>assembly_shop</td>\n",
       "      <td>cdc6bb92-0ccb-4490-9866-ef142f09139d</td>\n",
       "      <td>first_level</td>\n",
       "      <td>yandex_direct</td>\n",
       "    </tr>\n",
       "    <tr>\n",
       "      <th>...</th>\n",
       "      <td>...</td>\n",
       "      <td>...</td>\n",
       "      <td>...</td>\n",
       "      <td>...</td>\n",
       "      <td>...</td>\n",
       "      <td>...</td>\n",
       "    </tr>\n",
       "    <tr>\n",
       "      <th>135634</th>\n",
       "      <td>2020-06-05 00:08:06</td>\n",
       "      <td>building</td>\n",
       "      <td>research_center</td>\n",
       "      <td>f21d179f-1c4b-437e-b9c6-ab1976907195</td>\n",
       "      <td>first_level</td>\n",
       "      <td>instagram_new_adverts</td>\n",
       "    </tr>\n",
       "    <tr>\n",
       "      <th>135635</th>\n",
       "      <td>2020-06-05 02:25:12</td>\n",
       "      <td>finished_stage_1</td>\n",
       "      <td>second_level</td>\n",
       "      <td>515c1952-99aa-4bca-a7ea-d0449eb5385a</td>\n",
       "      <td>pvp</td>\n",
       "      <td>yandex_direct</td>\n",
       "    </tr>\n",
       "    <tr>\n",
       "      <th>135636</th>\n",
       "      <td>2020-06-05 08:57:52</td>\n",
       "      <td>building</td>\n",
       "      <td>research_center</td>\n",
       "      <td>ed3e7d02-8a96-4be7-9998-e9813ff9c316</td>\n",
       "      <td>first_level</td>\n",
       "      <td>youtube_channel_reklama</td>\n",
       "    </tr>\n",
       "    <tr>\n",
       "      <th>135637</th>\n",
       "      <td>2020-06-05 12:12:27</td>\n",
       "      <td>finished_stage_1</td>\n",
       "      <td>second_level</td>\n",
       "      <td>32572adb-900f-4b5d-a453-1eb1e6d88d8b</td>\n",
       "      <td>pvp</td>\n",
       "      <td>facebook_ads</td>\n",
       "    </tr>\n",
       "    <tr>\n",
       "      <th>135638</th>\n",
       "      <td>2020-06-05 12:32:49</td>\n",
       "      <td>finished_stage_1</td>\n",
       "      <td>second_level</td>\n",
       "      <td>f21d179f-1c4b-437e-b9c6-ab1976907195</td>\n",
       "      <td>pvp</td>\n",
       "      <td>instagram_new_adverts</td>\n",
       "    </tr>\n",
       "  </tbody>\n",
       "</table>\n",
       "<p>135639 rows × 6 columns</p>\n",
       "</div>"
      ],
      "text/plain": [
       "            event_datetime             event    building_type  \\\n",
       "0      2020-05-04 00:00:01          building    assembly_shop   \n",
       "1      2020-05-04 00:00:03          building    assembly_shop   \n",
       "2      2020-05-04 00:00:16          building    assembly_shop   \n",
       "3      2020-05-04 00:00:16          building    assembly_shop   \n",
       "4      2020-05-04 00:00:35          building    assembly_shop   \n",
       "...                    ...               ...              ...   \n",
       "135634 2020-06-05 00:08:06          building  research_center   \n",
       "135635 2020-06-05 02:25:12  finished_stage_1     second_level   \n",
       "135636 2020-06-05 08:57:52          building  research_center   \n",
       "135637 2020-06-05 12:12:27  finished_stage_1     second_level   \n",
       "135638 2020-06-05 12:32:49  finished_stage_1     second_level   \n",
       "\n",
       "                                     user_id project_type  \\\n",
       "0       55e92310-cb8e-4754-b622-597e124b03de  first_level   \n",
       "1       c07b1c10-f477-44dc-81dc-ec82254b1347  first_level   \n",
       "2       6edd42cc-e753-4ff6-a947-2107cd560710  first_level   \n",
       "3       92c69003-d60a-444a-827f-8cc51bf6bf4c  first_level   \n",
       "4       cdc6bb92-0ccb-4490-9866-ef142f09139d  first_level   \n",
       "...                                      ...          ...   \n",
       "135634  f21d179f-1c4b-437e-b9c6-ab1976907195  first_level   \n",
       "135635  515c1952-99aa-4bca-a7ea-d0449eb5385a          pvp   \n",
       "135636  ed3e7d02-8a96-4be7-9998-e9813ff9c316  first_level   \n",
       "135637  32572adb-900f-4b5d-a453-1eb1e6d88d8b          pvp   \n",
       "135638  f21d179f-1c4b-437e-b9c6-ab1976907195          pvp   \n",
       "\n",
       "                         source  \n",
       "0       youtube_channel_reklama  \n",
       "1                  facebook_ads  \n",
       "2         instagram_new_adverts  \n",
       "3                  facebook_ads  \n",
       "4                 yandex_direct  \n",
       "...                         ...  \n",
       "135634    instagram_new_adverts  \n",
       "135635            yandex_direct  \n",
       "135636  youtube_channel_reklama  \n",
       "135637             facebook_ads  \n",
       "135638    instagram_new_adverts  \n",
       "\n",
       "[135639 rows x 6 columns]"
      ]
     },
     "execution_count": 32,
     "metadata": {},
     "output_type": "execute_result"
    }
   ],
   "source": [
    "# объединим 2 таблички\n",
    "game_actions = game_actions.merge(user_source, how='left', on = 'user_id')\n",
    "game_actions"
   ]
  },
  {
   "cell_type": "code",
   "execution_count": 34,
   "metadata": {},
   "outputs": [
    {
     "data": {
      "text/html": [
       "<div>\n",
       "<style scoped>\n",
       "    .dataframe tbody tr th:only-of-type {\n",
       "        vertical-align: middle;\n",
       "    }\n",
       "\n",
       "    .dataframe tbody tr th {\n",
       "        vertical-align: top;\n",
       "    }\n",
       "\n",
       "    .dataframe thead th {\n",
       "        text-align: right;\n",
       "    }\n",
       "</style>\n",
       "<table border=\"1\" class=\"dataframe\">\n",
       "  <thead>\n",
       "    <tr style=\"text-align: right;\">\n",
       "      <th></th>\n",
       "      <th>source</th>\n",
       "      <th>users</th>\n",
       "    </tr>\n",
       "  </thead>\n",
       "  <tbody>\n",
       "    <tr>\n",
       "      <th>0</th>\n",
       "      <td>facebook_ads</td>\n",
       "      <td>2726</td>\n",
       "    </tr>\n",
       "    <tr>\n",
       "      <th>1</th>\n",
       "      <td>instagram_new_adverts</td>\n",
       "      <td>3347</td>\n",
       "    </tr>\n",
       "    <tr>\n",
       "      <th>2</th>\n",
       "      <td>yandex_direct</td>\n",
       "      <td>4817</td>\n",
       "    </tr>\n",
       "    <tr>\n",
       "      <th>3</th>\n",
       "      <td>youtube_channel_reklama</td>\n",
       "      <td>2686</td>\n",
       "    </tr>\n",
       "  </tbody>\n",
       "</table>\n",
       "</div>"
      ],
      "text/plain": [
       "                    source  users\n",
       "0             facebook_ads   2726\n",
       "1    instagram_new_adverts   3347\n",
       "2            yandex_direct   4817\n",
       "3  youtube_channel_reklama   2686"
      ]
     },
     "execution_count": 34,
     "metadata": {},
     "output_type": "execute_result"
    }
   ],
   "source": [
    "# распределение по источникам\n",
    "sourse = game_actions.groupby('source').agg({'user_id':'nunique'}).reset_index().rename(columns={'user_id':'users'})\n",
    "sourse"
   ]
  },
  {
   "cell_type": "code",
   "execution_count": 35,
   "metadata": {},
   "outputs": [
    {
     "data": {
      "image/png": "[encoded data removed]",
      "text/plain": [
       "<Figure size 432x288 with 1 Axes>"
      ]
     },
     "metadata": {},
     "output_type": "display_data"
    }
   ],
   "source": [
    "# распределение в виде диграммы\n",
    "fig, ax = plt.subplots()\n",
    "ax.pie(sourse['users'],\n",
    "       labels=sourse['source'],\n",
    "       autopct='%1.1f%%')\n",
    "ax.axis(\"equal\")\n",
    "plt.title(\"Соотношение источников привлечения\")\n",
    "plt.show()"
   ]
  },
  {
   "cell_type": "code",
   "execution_count": 36,
   "metadata": {},
   "outputs": [
    {
     "data": {
      "text/html": [
       "<div>\n",
       "<style scoped>\n",
       "    .dataframe tbody tr th:only-of-type {\n",
       "        vertical-align: middle;\n",
       "    }\n",
       "\n",
       "    .dataframe tbody tr th {\n",
       "        vertical-align: top;\n",
       "    }\n",
       "\n",
       "    .dataframe thead th {\n",
       "        text-align: right;\n",
       "    }\n",
       "</style>\n",
       "<table border=\"1\" class=\"dataframe\">\n",
       "  <thead>\n",
       "    <tr style=\"text-align: right;\">\n",
       "      <th></th>\n",
       "      <th>source</th>\n",
       "      <th>users_end_level_1</th>\n",
       "      <th>users_all</th>\n",
       "      <th>users_path</th>\n",
       "    </tr>\n",
       "  </thead>\n",
       "  <tbody>\n",
       "    <tr>\n",
       "      <th>0</th>\n",
       "      <td>facebook_ads</td>\n",
       "      <td>1150</td>\n",
       "      <td>2726</td>\n",
       "      <td>0.421864</td>\n",
       "    </tr>\n",
       "    <tr>\n",
       "      <th>1</th>\n",
       "      <td>instagram_new_adverts</td>\n",
       "      <td>1466</td>\n",
       "      <td>3347</td>\n",
       "      <td>0.438004</td>\n",
       "    </tr>\n",
       "    <tr>\n",
       "      <th>2</th>\n",
       "      <td>yandex_direct</td>\n",
       "      <td>2042</td>\n",
       "      <td>4817</td>\n",
       "      <td>0.423915</td>\n",
       "    </tr>\n",
       "    <tr>\n",
       "      <th>3</th>\n",
       "      <td>youtube_channel_reklama</td>\n",
       "      <td>1159</td>\n",
       "      <td>2686</td>\n",
       "      <td>0.431497</td>\n",
       "    </tr>\n",
       "  </tbody>\n",
       "</table>\n",
       "</div>"
      ],
      "text/plain": [
       "                    source  users_end_level_1  users_all  users_path\n",
       "0             facebook_ads               1150       2726    0.421864\n",
       "1    instagram_new_adverts               1466       3347    0.438004\n",
       "2            yandex_direct               2042       4817    0.423915\n",
       "3  youtube_channel_reklama               1159       2686    0.431497"
      ]
     },
     "execution_count": 36,
     "metadata": {},
     "output_type": "execute_result"
    }
   ],
   "source": [
    "# посмотрим распределение по источникам тех, кто завершил 1 уровень.\n",
    "sourse_level_2 = game_actions[game_actions['event'] == 'finished_stage_1'].groupby('source').agg({'user_id':'nunique'}).reset_index().rename(columns={'user_id':'users_end_level_1'})\n",
    "sourse_level_2['users_all'] = sourse['users']\n",
    "sourse_level_2['users_path'] = sourse_level_2['users_end_level_1']/sourse_level_2['users_all']\n",
    "sourse_level_2 "
   ]
  },
  {
   "cell_type": "markdown",
   "metadata": {},
   "source": [
    "Более менее одинаковое распределение источников среди тех, кто завершил первый уровень. Но чаще всего пользователи из instagram_new_adverts завершают чаще."
   ]
  },
  {
   "cell_type": "code",
   "execution_count": 37,
   "metadata": {},
   "outputs": [],
   "source": [
    "# посмотрим долю тех, кто за это время завершил игру\n",
    "level_end = (game_actions[game_actions['event'] == 'finished_stage_1']['user_id'].nunique()/game_actions['user_id'].nunique())"
   ]
  },
  {
   "cell_type": "markdown",
   "metadata": {},
   "source": [
    "42.85% пользователей закончили первый уровень."
   ]
  },
  {
   "cell_type": "code",
   "execution_count": 38,
   "metadata": {},
   "outputs": [
    {
     "data": {
      "text/html": [
       "<div>\n",
       "<style scoped>\n",
       "    .dataframe tbody tr th:only-of-type {\n",
       "        vertical-align: middle;\n",
       "    }\n",
       "\n",
       "    .dataframe tbody tr th {\n",
       "        vertical-align: top;\n",
       "    }\n",
       "\n",
       "    .dataframe thead th {\n",
       "        text-align: right;\n",
       "    }\n",
       "</style>\n",
       "<table border=\"1\" class=\"dataframe\">\n",
       "  <thead>\n",
       "    <tr style=\"text-align: right;\">\n",
       "      <th></th>\n",
       "      <th>user_id</th>\n",
       "      <th>event_datetime</th>\n",
       "      <th>event_datetime</th>\n",
       "      <th>level_time</th>\n",
       "    </tr>\n",
       "  </thead>\n",
       "  <tbody>\n",
       "    <tr>\n",
       "      <th>91</th>\n",
       "      <td>03990bc0-47b6-44ce-9f8b-3afb1a97d0e7</td>\n",
       "      <td>2020-05-07 16:40:32</td>\n",
       "      <td>2020-05-08 02:19:33</td>\n",
       "      <td>0 days 09:39:01</td>\n",
       "    </tr>\n",
       "    <tr>\n",
       "      <th>4687</th>\n",
       "      <td>ced7b368-818f-48f6-9461-2346de0892c5</td>\n",
       "      <td>2020-05-04 00:13:21</td>\n",
       "      <td>2020-05-04 19:47:29</td>\n",
       "      <td>0 days 19:34:08</td>\n",
       "    </tr>\n",
       "    <tr>\n",
       "      <th>4547</th>\n",
       "      <td>c8180f71-68dc-4fd5-ba6e-ba5f5d0d28f7</td>\n",
       "      <td>2020-05-08 16:08:29</td>\n",
       "      <td>2020-05-09 11:52:33</td>\n",
       "      <td>0 days 19:44:04</td>\n",
       "    </tr>\n",
       "    <tr>\n",
       "      <th>825</th>\n",
       "      <td>2204ae7f-892b-494d-bd58-28816ff35eb5</td>\n",
       "      <td>2020-05-07 02:25:27</td>\n",
       "      <td>2020-05-08 01:02:51</td>\n",
       "      <td>0 days 22:37:24</td>\n",
       "    </tr>\n",
       "    <tr>\n",
       "      <th>1032</th>\n",
       "      <td>2ab1cc5a-413a-408e-ba76-01de8e12bead</td>\n",
       "      <td>2020-05-05 13:25:04</td>\n",
       "      <td>2020-05-06 13:43:12</td>\n",
       "      <td>1 days 00:18:08</td>\n",
       "    </tr>\n",
       "    <tr>\n",
       "      <th>689</th>\n",
       "      <td>1c472a67-3aac-43f1-994f-4afbbb564918</td>\n",
       "      <td>2020-05-08 03:52:35</td>\n",
       "      <td>2020-05-09 05:23:00</td>\n",
       "      <td>1 days 01:30:25</td>\n",
       "    </tr>\n",
       "    <tr>\n",
       "      <th>2002</th>\n",
       "      <td>56758e22-1604-47ed-9cd2-b2cc73eea47f</td>\n",
       "      <td>2020-05-06 10:22:51</td>\n",
       "      <td>2020-05-07 12:48:56</td>\n",
       "      <td>1 days 02:26:05</td>\n",
       "    </tr>\n",
       "    <tr>\n",
       "      <th>2556</th>\n",
       "      <td>70db22b3-c2f4-43bc-94ea-51c8d2904a29</td>\n",
       "      <td>2020-05-04 13:41:55</td>\n",
       "      <td>2020-05-05 18:54:37</td>\n",
       "      <td>1 days 05:12:42</td>\n",
       "    </tr>\n",
       "    <tr>\n",
       "      <th>841</th>\n",
       "      <td>22b2aade-2741-4cd7-aafa-8da404e7b730</td>\n",
       "      <td>2020-05-07 10:30:52</td>\n",
       "      <td>2020-05-08 17:16:15</td>\n",
       "      <td>1 days 06:45:23</td>\n",
       "    </tr>\n",
       "    <tr>\n",
       "      <th>2531</th>\n",
       "      <td>6ff3138b-b242-4ec3-b50f-8d6f999c0848</td>\n",
       "      <td>2020-05-09 18:23:09</td>\n",
       "      <td>2020-05-11 02:52:22</td>\n",
       "      <td>1 days 08:29:13</td>\n",
       "    </tr>\n",
       "  </tbody>\n",
       "</table>\n",
       "</div>"
      ],
      "text/plain": [
       "                                   user_id      event_datetime  \\\n",
       "91    03990bc0-47b6-44ce-9f8b-3afb1a97d0e7 2020-05-07 16:40:32   \n",
       "4687  ced7b368-818f-48f6-9461-2346de0892c5 2020-05-04 00:13:21   \n",
       "4547  c8180f71-68dc-4fd5-ba6e-ba5f5d0d28f7 2020-05-08 16:08:29   \n",
       "825   2204ae7f-892b-494d-bd58-28816ff35eb5 2020-05-07 02:25:27   \n",
       "1032  2ab1cc5a-413a-408e-ba76-01de8e12bead 2020-05-05 13:25:04   \n",
       "689   1c472a67-3aac-43f1-994f-4afbbb564918 2020-05-08 03:52:35   \n",
       "2002  56758e22-1604-47ed-9cd2-b2cc73eea47f 2020-05-06 10:22:51   \n",
       "2556  70db22b3-c2f4-43bc-94ea-51c8d2904a29 2020-05-04 13:41:55   \n",
       "841   22b2aade-2741-4cd7-aafa-8da404e7b730 2020-05-07 10:30:52   \n",
       "2531  6ff3138b-b242-4ec3-b50f-8d6f999c0848 2020-05-09 18:23:09   \n",
       "\n",
       "          event_datetime      level_time  \n",
       "91   2020-05-08 02:19:33 0 days 09:39:01  \n",
       "4687 2020-05-04 19:47:29 0 days 19:34:08  \n",
       "4547 2020-05-09 11:52:33 0 days 19:44:04  \n",
       "825  2020-05-08 01:02:51 0 days 22:37:24  \n",
       "1032 2020-05-06 13:43:12 1 days 00:18:08  \n",
       "689  2020-05-09 05:23:00 1 days 01:30:25  \n",
       "2002 2020-05-07 12:48:56 1 days 02:26:05  \n",
       "2556 2020-05-05 18:54:37 1 days 05:12:42  \n",
       "841  2020-05-08 17:16:15 1 days 06:45:23  \n",
       "2531 2020-05-11 02:52:22 1 days 08:29:13  "
      ]
     },
     "execution_count": 38,
     "metadata": {},
     "output_type": "execute_result"
    }
   ],
   "source": [
    "past_players = game_actions[game_actions['project_type'] != 'first_level']['user_id']\n",
    "passed_time = (game_actions\n",
    "              .query('user_id in @past_players')\n",
    "              .groupby('user_id')\n",
    "              .agg({'event_datetime':['min','max']}))\n",
    "passed_time['level_time'] = passed_time[('event_datetime', 'max')] - passed_time[('event_datetime', 'min')]\n",
    "passed_time.columns = passed_time.columns.droplevel(1)\n",
    "passed_time = passed_time.reset_index().sort_values(by='level_time')\n",
    "passed_time.head(10)"
   ]
  },
  {
   "cell_type": "code",
   "execution_count": 39,
   "metadata": {},
   "outputs": [
    {
     "data": {
      "text/plain": [
       "count                          5817\n",
       "mean     11 days 20:37:59.561801616\n",
       "std       4 days 01:37:33.183162346\n",
       "min                 0 days 09:39:01\n",
       "25%                 9 days 05:13:21\n",
       "50%                11 days 13:28:44\n",
       "75%                14 days 05:15:16\n",
       "max                30 days 21:58:53\n",
       "Name: level_time, dtype: object"
      ]
     },
     "execution_count": 39,
     "metadata": {},
     "output_type": "execute_result"
    }
   ],
   "source": [
    "passed_time['level_time'].describe()"
   ]
  },
  {
   "cell_type": "markdown",
   "metadata": {},
   "source": [
    "Минимум затраченный на прохождение первого уровня это 9 часов 39 минутю В среднем у игрока уходит почти 12 дней на прохождение уровня."
   ]
  },
  {
   "cell_type": "code",
   "execution_count": 40,
   "metadata": {},
   "outputs": [
    {
     "data": {
      "text/html": [
       "<div>\n",
       "<style scoped>\n",
       "    .dataframe tbody tr th:only-of-type {\n",
       "        vertical-align: middle;\n",
       "    }\n",
       "\n",
       "    .dataframe tbody tr th {\n",
       "        vertical-align: top;\n",
       "    }\n",
       "\n",
       "    .dataframe thead th {\n",
       "        text-align: right;\n",
       "    }\n",
       "</style>\n",
       "<table border=\"1\" class=\"dataframe\">\n",
       "  <thead>\n",
       "    <tr style=\"text-align: right;\">\n",
       "      <th></th>\n",
       "      <th>event</th>\n",
       "      <th>count</th>\n",
       "    </tr>\n",
       "  </thead>\n",
       "  <tbody>\n",
       "    <tr>\n",
       "      <th>0</th>\n",
       "      <td>building</td>\n",
       "      <td>127956</td>\n",
       "    </tr>\n",
       "    <tr>\n",
       "      <th>1</th>\n",
       "      <td>finished_stage_1</td>\n",
       "      <td>5817</td>\n",
       "    </tr>\n",
       "    <tr>\n",
       "      <th>2</th>\n",
       "      <td>project</td>\n",
       "      <td>1866</td>\n",
       "    </tr>\n",
       "  </tbody>\n",
       "</table>\n",
       "</div>"
      ],
      "text/plain": [
       "              event   count\n",
       "0          building  127956\n",
       "1  finished_stage_1    5817\n",
       "2           project    1866"
      ]
     },
     "execution_count": 40,
     "metadata": {},
     "output_type": "execute_result"
    }
   ],
   "source": [
    "events = game_actions.groupby('event').agg({'building_type':'count'}).reset_index().rename(columns={'building_type':'count'})\n",
    "events"
   ]
  },
  {
   "cell_type": "code",
   "execution_count": 41,
   "metadata": {},
   "outputs": [
    {
     "data": {
      "image/png": "[encoded data removed]",
      "text/plain": [
       "<Figure size 432x288 with 1 Axes>"
      ]
     },
     "metadata": {},
     "output_type": "display_data"
    }
   ],
   "source": [
    "fig, ax = plt.subplots()\n",
    "ax.pie(events['count'],\n",
    "       labels=events['event'],\n",
    "       autopct='%1.1f%%')\n",
    "ax.axis(\"equal\")\n",
    "plt.title(\"Соотношение событий\")\n",
    "plt.show()"
   ]
  },
  {
   "cell_type": "markdown",
   "metadata": {},
   "source": [
    "Самое частое событие в игре это постройки"
   ]
  },
  {
   "cell_type": "code",
   "execution_count": 42,
   "metadata": {},
   "outputs": [
    {
     "data": {
      "text/html": [
       "<div>\n",
       "<style scoped>\n",
       "    .dataframe tbody tr th:only-of-type {\n",
       "        vertical-align: middle;\n",
       "    }\n",
       "\n",
       "    .dataframe tbody tr th {\n",
       "        vertical-align: top;\n",
       "    }\n",
       "\n",
       "    .dataframe thead th {\n",
       "        text-align: right;\n",
       "    }\n",
       "</style>\n",
       "<table border=\"1\" class=\"dataframe\">\n",
       "  <thead>\n",
       "    <tr style=\"text-align: right;\">\n",
       "      <th></th>\n",
       "      <th>building_type</th>\n",
       "      <th>count</th>\n",
       "    </tr>\n",
       "  </thead>\n",
       "  <tbody>\n",
       "    <tr>\n",
       "      <th>0</th>\n",
       "      <td>assembly_shop</td>\n",
       "      <td>54494</td>\n",
       "    </tr>\n",
       "    <tr>\n",
       "      <th>1</th>\n",
       "      <td>research_center</td>\n",
       "      <td>14137</td>\n",
       "    </tr>\n",
       "    <tr>\n",
       "      <th>2</th>\n",
       "      <td>spaceport</td>\n",
       "      <td>59325</td>\n",
       "    </tr>\n",
       "  </tbody>\n",
       "</table>\n",
       "</div>"
      ],
      "text/plain": [
       "     building_type  count\n",
       "0    assembly_shop  54494\n",
       "1  research_center  14137\n",
       "2        spaceport  59325"
      ]
     },
     "execution_count": 42,
     "metadata": {},
     "output_type": "execute_result"
    }
   ],
   "source": [
    "# посмотрим что строят\n",
    "builds = (game_actions[game_actions['building_type'] != 'second_level'].groupby('building_type')\n",
    "          .agg({'event':'count'})\n",
    "          .reset_index()\n",
    "          .rename(columns={'event':'count'}))\n",
    "builds"
   ]
  },
  {
   "cell_type": "code",
   "execution_count": 43,
   "metadata": {},
   "outputs": [
    {
     "data": {
      "image/png": "[encoded data removed]",
      "text/plain": [
       "<Figure size 432x288 with 1 Axes>"
      ]
     },
     "metadata": {},
     "output_type": "display_data"
    }
   ],
   "source": [
    "fig, ax = plt.subplots()\n",
    "ax.pie(builds['count'],\n",
    "       labels=builds['building_type'],\n",
    "       autopct='%1.1f%%')\n",
    "ax.axis(\"equal\")\n",
    "plt.title(\"Соотношение зданий\")\n",
    "plt.show()"
   ]
  },
  {
   "cell_type": "markdown",
   "metadata": {},
   "source": [
    "Типы зданий: spaceport — космопорт - 46.4%, assembly_shop — сборочный цех - 42.6%, research_center — исследовательский центр - 11%."
   ]
  },
  {
   "cell_type": "code",
   "execution_count": 44,
   "metadata": {},
   "outputs": [
    {
     "data": {
      "text/html": [
       "<div>\n",
       "<style scoped>\n",
       "    .dataframe tbody tr th:only-of-type {\n",
       "        vertical-align: middle;\n",
       "    }\n",
       "\n",
       "    .dataframe tbody tr th {\n",
       "        vertical-align: top;\n",
       "    }\n",
       "\n",
       "    .dataframe thead th {\n",
       "        text-align: right;\n",
       "    }\n",
       "</style>\n",
       "<table border=\"1\" class=\"dataframe\">\n",
       "  <thead>\n",
       "    <tr style=\"text-align: right;\">\n",
       "      <th></th>\n",
       "      <th>project_type</th>\n",
       "      <th>count</th>\n",
       "    </tr>\n",
       "  </thead>\n",
       "  <tbody>\n",
       "    <tr>\n",
       "      <th>0</th>\n",
       "      <td>pvp</td>\n",
       "      <td>5817</td>\n",
       "    </tr>\n",
       "    <tr>\n",
       "      <th>1</th>\n",
       "      <td>satellite_orbital_assembly</td>\n",
       "      <td>1866</td>\n",
       "    </tr>\n",
       "  </tbody>\n",
       "</table>\n",
       "</div>"
      ],
      "text/plain": [
       "                 project_type  count\n",
       "0                         pvp   5817\n",
       "1  satellite_orbital_assembly   1866"
      ]
     },
     "execution_count": 44,
     "metadata": {},
     "output_type": "execute_result"
    }
   ],
   "source": [
    "\n",
    "# посмотрим за счет чего чаще всего проходят на второй уровень\n",
    "project = (game_actions[game_actions['project_type'] != 'first_level'].groupby('project_type')\n",
    "          .agg({'event':'count'})\n",
    "          .reset_index()\n",
    "          .rename(columns={'event':'count'}))\n",
    "project"
   ]
  },
  {
   "cell_type": "markdown",
   "metadata": {},
   "source": [
    "Поведенческий портрет пользователя: это игрок, который пришел из яндекс директ или инстаграма, в среднем завершающий первый уровень почти за 12 дней, который в игре чаще всего строит здания: космопорты или сборочный цех. В среднем, совершающий по 10 действий. На следующий уровень переходит скорей всего за счет победы в pvp."
   ]
  },
  {
   "cell_type": "markdown",
   "metadata": {},
   "source": [
    "### Маркетинг. Затраты на рекламу. Стоимость привлечения пользователя. Конверсия. "
   ]
  },
  {
   "cell_type": "code",
   "execution_count": 45,
   "metadata": {},
   "outputs": [
    {
     "data": {
      "text/html": [
       "<div>\n",
       "<style scoped>\n",
       "    .dataframe tbody tr th:only-of-type {\n",
       "        vertical-align: middle;\n",
       "    }\n",
       "\n",
       "    .dataframe tbody tr th {\n",
       "        vertical-align: top;\n",
       "    }\n",
       "\n",
       "    .dataframe thead th {\n",
       "        text-align: right;\n",
       "    }\n",
       "</style>\n",
       "<table border=\"1\" class=\"dataframe\">\n",
       "  <thead>\n",
       "    <tr style=\"text-align: right;\">\n",
       "      <th></th>\n",
       "      <th>source</th>\n",
       "      <th>users</th>\n",
       "    </tr>\n",
       "  </thead>\n",
       "  <tbody>\n",
       "    <tr>\n",
       "      <th>0</th>\n",
       "      <td>facebook_ads</td>\n",
       "      <td>2726</td>\n",
       "    </tr>\n",
       "    <tr>\n",
       "      <th>1</th>\n",
       "      <td>instagram_new_adverts</td>\n",
       "      <td>3347</td>\n",
       "    </tr>\n",
       "    <tr>\n",
       "      <th>2</th>\n",
       "      <td>yandex_direct</td>\n",
       "      <td>4817</td>\n",
       "    </tr>\n",
       "    <tr>\n",
       "      <th>3</th>\n",
       "      <td>youtube_channel_reklama</td>\n",
       "      <td>2686</td>\n",
       "    </tr>\n",
       "  </tbody>\n",
       "</table>\n",
       "</div>"
      ],
      "text/plain": [
       "                    source  users\n",
       "0             facebook_ads   2726\n",
       "1    instagram_new_adverts   3347\n",
       "2            yandex_direct   4817\n",
       "3  youtube_channel_reklama   2686"
      ]
     },
     "execution_count": 45,
     "metadata": {},
     "output_type": "execute_result"
    }
   ],
   "source": [
    "# пользователи по источникам\n",
    "sourse = game_actions.groupby('source').agg({'user_id':'nunique'}).reset_index().rename(columns={'user_id':'users'})\n",
    "sourse"
   ]
  },
  {
   "cell_type": "code",
   "execution_count": 46,
   "metadata": {},
   "outputs": [
    {
     "data": {
      "text/html": [
       "<div>\n",
       "<style scoped>\n",
       "    .dataframe tbody tr th:only-of-type {\n",
       "        vertical-align: middle;\n",
       "    }\n",
       "\n",
       "    .dataframe tbody tr th {\n",
       "        vertical-align: top;\n",
       "    }\n",
       "\n",
       "    .dataframe thead th {\n",
       "        text-align: right;\n",
       "    }\n",
       "</style>\n",
       "<table border=\"1\" class=\"dataframe\">\n",
       "  <thead>\n",
       "    <tr style=\"text-align: right;\">\n",
       "      <th></th>\n",
       "      <th>source</th>\n",
       "      <th>sum</th>\n",
       "    </tr>\n",
       "  </thead>\n",
       "  <tbody>\n",
       "    <tr>\n",
       "      <th>0</th>\n",
       "      <td>facebook_ads</td>\n",
       "      <td>2140.904643</td>\n",
       "    </tr>\n",
       "    <tr>\n",
       "      <th>1</th>\n",
       "      <td>instagram_new_adverts</td>\n",
       "      <td>2161.441691</td>\n",
       "    </tr>\n",
       "    <tr>\n",
       "      <th>2</th>\n",
       "      <td>yandex_direct</td>\n",
       "      <td>2233.111449</td>\n",
       "    </tr>\n",
       "    <tr>\n",
       "      <th>3</th>\n",
       "      <td>youtube_channel_reklama</td>\n",
       "      <td>1068.119204</td>\n",
       "    </tr>\n",
       "  </tbody>\n",
       "</table>\n",
       "</div>"
      ],
      "text/plain": [
       "                    source          sum\n",
       "0             facebook_ads  2140.904643\n",
       "1    instagram_new_adverts  2161.441691\n",
       "2            yandex_direct  2233.111449\n",
       "3  youtube_channel_reklama  1068.119204"
      ]
     },
     "execution_count": 46,
     "metadata": {},
     "output_type": "execute_result"
    }
   ],
   "source": [
    "# сумма затрат по источникам\n",
    "sum_sources = (ad_costs\n",
    "       .groupby('source')\n",
    "       .agg({'cost':'sum'})         \n",
    "       .reset_index()\n",
    "       .rename(columns={'cost':'sum'}))\n",
    "sum_sources"
   ]
  },
  {
   "cell_type": "code",
   "execution_count": 47,
   "metadata": {},
   "outputs": [
    {
     "data": {
      "text/html": [
       "<div>\n",
       "<style scoped>\n",
       "    .dataframe tbody tr th:only-of-type {\n",
       "        vertical-align: middle;\n",
       "    }\n",
       "\n",
       "    .dataframe tbody tr th {\n",
       "        vertical-align: top;\n",
       "    }\n",
       "\n",
       "    .dataframe thead th {\n",
       "        text-align: right;\n",
       "    }\n",
       "</style>\n",
       "<table border=\"1\" class=\"dataframe\">\n",
       "  <thead>\n",
       "    <tr style=\"text-align: right;\">\n",
       "      <th></th>\n",
       "      <th>source</th>\n",
       "      <th>users</th>\n",
       "      <th>sum</th>\n",
       "      <th>mean_cost</th>\n",
       "    </tr>\n",
       "  </thead>\n",
       "  <tbody>\n",
       "    <tr>\n",
       "      <th>0</th>\n",
       "      <td>facebook_ads</td>\n",
       "      <td>2726</td>\n",
       "      <td>2140.90</td>\n",
       "      <td>0.79</td>\n",
       "    </tr>\n",
       "    <tr>\n",
       "      <th>1</th>\n",
       "      <td>instagram_new_adverts</td>\n",
       "      <td>3347</td>\n",
       "      <td>2161.44</td>\n",
       "      <td>0.65</td>\n",
       "    </tr>\n",
       "    <tr>\n",
       "      <th>2</th>\n",
       "      <td>yandex_direct</td>\n",
       "      <td>4817</td>\n",
       "      <td>2233.11</td>\n",
       "      <td>0.46</td>\n",
       "    </tr>\n",
       "    <tr>\n",
       "      <th>3</th>\n",
       "      <td>youtube_channel_reklama</td>\n",
       "      <td>2686</td>\n",
       "      <td>1068.12</td>\n",
       "      <td>0.40</td>\n",
       "    </tr>\n",
       "  </tbody>\n",
       "</table>\n",
       "</div>"
      ],
      "text/plain": [
       "                    source  users      sum  mean_cost\n",
       "0             facebook_ads   2726  2140.90       0.79\n",
       "1    instagram_new_adverts   3347  2161.44       0.65\n",
       "2            yandex_direct   4817  2233.11       0.46\n",
       "3  youtube_channel_reklama   2686  1068.12       0.40"
      ]
     },
     "execution_count": 47,
     "metadata": {},
     "output_type": "execute_result"
    }
   ],
   "source": [
    "# объединение и расчет средней стоимости клиента\n",
    "sum_sources = sourse.merge(sum_sources, how ='left', on='source')\n",
    "sum_sources['mean_cost'] = sum_sources['sum']/sum_sources['users']\n",
    "sum_sources = sum_sources.round({'sum': 2, 'mean_cost': 2})\n",
    "sum_sources"
   ]
  },
  {
   "cell_type": "code",
   "execution_count": 48,
   "metadata": {},
   "outputs": [
    {
     "data": {
      "text/html": [
       "<div>\n",
       "<style scoped>\n",
       "    .dataframe tbody tr th:only-of-type {\n",
       "        vertical-align: middle;\n",
       "    }\n",
       "\n",
       "    .dataframe tbody tr th {\n",
       "        vertical-align: top;\n",
       "    }\n",
       "\n",
       "    .dataframe thead th {\n",
       "        text-align: right;\n",
       "    }\n",
       "</style>\n",
       "<table border=\"1\" class=\"dataframe\">\n",
       "  <thead>\n",
       "    <tr style=\"text-align: right;\">\n",
       "      <th></th>\n",
       "      <th>day</th>\n",
       "      <th>sum</th>\n",
       "    </tr>\n",
       "  </thead>\n",
       "  <tbody>\n",
       "    <tr>\n",
       "      <th>0</th>\n",
       "      <td>2020-05-03</td>\n",
       "      <td>3302.451840</td>\n",
       "    </tr>\n",
       "    <tr>\n",
       "      <th>1</th>\n",
       "      <td>2020-05-04</td>\n",
       "      <td>1865.004649</td>\n",
       "    </tr>\n",
       "    <tr>\n",
       "      <th>2</th>\n",
       "      <td>2020-05-05</td>\n",
       "      <td>1029.431469</td>\n",
       "    </tr>\n",
       "    <tr>\n",
       "      <th>3</th>\n",
       "      <td>2020-05-06</td>\n",
       "      <td>620.476519</td>\n",
       "    </tr>\n",
       "    <tr>\n",
       "      <th>4</th>\n",
       "      <td>2020-05-07</td>\n",
       "      <td>391.852033</td>\n",
       "    </tr>\n",
       "    <tr>\n",
       "      <th>5</th>\n",
       "      <td>2020-05-08</td>\n",
       "      <td>242.767553</td>\n",
       "    </tr>\n",
       "    <tr>\n",
       "      <th>6</th>\n",
       "      <td>2020-05-09</td>\n",
       "      <td>151.592924</td>\n",
       "    </tr>\n",
       "  </tbody>\n",
       "</table>\n",
       "</div>"
      ],
      "text/plain": [
       "         day          sum\n",
       "0 2020-05-03  3302.451840\n",
       "1 2020-05-04  1865.004649\n",
       "2 2020-05-05  1029.431469\n",
       "3 2020-05-06   620.476519\n",
       "4 2020-05-07   391.852033\n",
       "5 2020-05-08   242.767553\n",
       "6 2020-05-09   151.592924"
      ]
     },
     "execution_count": 48,
     "metadata": {},
     "output_type": "execute_result"
    }
   ],
   "source": [
    "# стоимость по дням\n",
    "ad_costs_day = ad_costs.groupby('day').agg({'cost':'sum'}).reset_index().rename(columns={'cost':'sum'})\n",
    "ad_costs_day"
   ]
  },
  {
   "cell_type": "markdown",
   "metadata": {},
   "source": [
    "До 9 Мая мы вкладывали в трафики по убыванию и в эти дни был сильный прирост по активности пользователей, после этого пользователи пошли на спад. Скорей всего от рекламы отказывать не надо, надо просто оптимизировать затраты на нее.  \n",
    "Самый низкий по стоимости за клиента это youtube_channel_reklama, но с него и пришло всего 19,8% пользователей (самый низкий показатель). Самый высокий показатель по притоку показал Яндекс.Директ 35,5% и относительно дешевый 0,46 за пользователя. Самый дорогой источник это Фейсбук и привлекает он немного пользователей, поэтому от него явно стоит отказаться. Инстаграм второй по количеству привлеченных клиентов 24,7% и от него самый высокий процент тех, кто прошел 1-ый уровень(больше вовлечен в игру), но стоит он недешево. \n",
    "Стоит больше всего в рекламе сделать упор на: \n",
    "- Яндекс.Директ \n",
    "- небольшую долю закидывать на инстаграм (дорого, но эффективно) и ютуб (дешево, но небольшое количество)"
   ]
  },
  {
   "cell_type": "markdown",
   "metadata": {},
   "source": [
    "### Вывод"
   ]
  },
  {
   "cell_type": "markdown",
   "metadata": {},
   "source": [
    "Пользователи были активны с 4 по 10 мая, поток в начале большой, но интересно, что с увеличением этой группы в течение месяца группа просто играющих резко сократилась. скорей всего из-за прекращения рекламы. 43% пользователей закончили 1-ый уровень \n",
    "Поведенческий портрет пользователя: это игрок, который пришел из яндекс директ или инстаграма, в среднем завершающий первый уровень почти за 12 дней, который в игре чаще всего строит здания: космопорты или сборочный цех. В среднем, совершающий по 10 действий. На следующий уровень переходит скорей всего за счет победы в pvp.\n",
    "\n",
    "До 9 Мая мы вкладывали в трафики по убыванию и в эти дни был сильный прирост по активности пользователей, после этого пользователи пошли на спад. Скорей всего от рекламы отказываться не надо, надо просто оптимизировать затраты на нее.  \n",
    "Самый низкий по стоимости за клиента это youtube_channel_reklama, но с него и пришло всего 19,8% пользователей (самый низкий показатель). Самый высокий показатель по притоку показал Яндекс.Директ 35,5% и относительно дешевый 0,46 за пользователя. Самый дорогой источник это Фейсбук и привлекает он немного пользователей, поэтому от него явно стоит отказаться. Инстаграм второй по количеству привлеченных клиентов 24,7% и от него самый высокий процент тех, кто прошел 1-ый уровень(больше вовлечен в игру), но стоит он недешево. \n",
    "Стоит больше всего в рекламе сделать упор на: \n",
    "- Яндекс.Директ \n",
    "- небольшую долю закидывать на инстаграм (дорого, но эффективно) и ютуб (дешево, но небольшое количество)"
   ]
  },
  {
   "cell_type": "markdown",
   "metadata": {},
   "source": [
    "## Проверка гипотез"
   ]
  },
  {
   "cell_type": "markdown",
   "metadata": {},
   "source": [
    "### Проверка первой гипотезы"
   ]
  },
  {
   "cell_type": "markdown",
   "metadata": {},
   "source": [
    "H0: Время завершения уровня не различается независимо от способа прохождения(через реализацию проекта и через победу над первым игроком)\n",
    "\n",
    "H1: Время завершения уровня различается независимо от способа прохождения(через реализацию проекта и через победу над первым игроком)\n",
    "\n",
    "Критический уровень значимости = 0.05"
   ]
  },
  {
   "cell_type": "code",
   "execution_count": 49,
   "metadata": {},
   "outputs": [
    {
     "data": {
      "image/png": "[encoded data removed]",
      "text/plain": [
       "<Figure size 360x360 with 1 Axes>"
      ]
     },
     "metadata": {
      "needs_background": "light"
     },
     "output_type": "display_data"
    }
   ],
   "source": [
    "# берем таблицу, где уже считали время на прохождение добавляем столбец, что б перевести в часы и строим график распределения\n",
    "passed_time['time_in_h'] = passed_time['level_time'] / np.timedelta64(1, 'h') #переводим затраченное время в часы\n",
    "sns.displot(passed_time['time_in_h'])\n",
    "plt.title(\"Распределение времени прохождения уровня в часах\")\n",
    "plt.show()"
   ]
  },
  {
   "cell_type": "code",
   "execution_count": 50,
   "metadata": {},
   "outputs": [
    {
     "data": {
      "text/plain": [
       "count    5817.000000\n",
       "mean      284.633212\n",
       "std        97.625884\n",
       "min         9.650278\n",
       "25%       221.222500\n",
       "50%       277.478889\n",
       "75%       341.254444\n",
       "max       741.981389\n",
       "Name: time_in_h, dtype: float64"
      ]
     },
     "execution_count": 50,
     "metadata": {},
     "output_type": "execute_result"
    }
   ],
   "source": [
    "passed_time['time_in_h'].describe()"
   ]
  },
  {
   "cell_type": "code",
   "execution_count": 51,
   "metadata": {},
   "outputs": [
    {
     "data": {
      "text/plain": [
       "<AxesSubplot:ylabel='time_in_h'>"
      ]
     },
     "execution_count": 51,
     "metadata": {},
     "output_type": "execute_result"
    },
    {
     "data": {
      "image/png": "[encoded data removed]",
      "text/plain": [
       "<Figure size 432x288 with 1 Axes>"
      ]
     },
     "metadata": {
      "needs_background": "light"
     },
     "output_type": "display_data"
    }
   ],
   "source": [
    "sns.boxplot(y=passed_time['time_in_h'])"
   ]
  },
  {
   "cell_type": "code",
   "execution_count": 52,
   "metadata": {},
   "outputs": [
    {
     "name": "stdout",
     "output_type": "stream",
     "text": [
      "p-значение: 5.708058235069386e-107\n",
      "Отвергаем нулевую гипотезу\n",
      "Среднее время прохождения уровня через бой - time_in_h    266.506688\n",
      "dtype: float64\n",
      "Среднее время прохождения уровня через строительство - time_in_h    323.013649\n",
      "dtype: float64\n"
     ]
    }
   ],
   "source": [
    "passed_users = game_actions[(game_actions['project_type'] != 'first_level')][['user_id', 'project_type']]\n",
    "project = game_actions[game_actions['project_type'] == 'satellite_orbital_assembly'][['user_id', 'project_type']]\n",
    "finished_stage_1  = passed_users[~passed_users.isin(project['user_id'].unique())].dropna()\n",
    "\n",
    "project_time = passed_time[['user_id', 'time_in_h']].merge(project, how='left', on='user_id').dropna()\n",
    "pvp_time = passed_time[['user_id', 'time_in_h']].merge(finished_stage_1, how='left', on='user_id').dropna()\n",
    "\n",
    "sample_1 = pvp_time['time_in_h']\n",
    "sample_2 = project_time['time_in_h']\n",
    "\n",
    "results = st.ttest_ind(\n",
    "    sample_1, \n",
    "    sample_2, \n",
    "    equal_var=False)\n",
    "\n",
    "alpha = 0.05\n",
    "print('p-значение:', results.pvalue)\n",
    "\n",
    "if results.pvalue < alpha:\n",
    "    print(\"Отвергаем нулевую гипотезу\")\n",
    "else:\n",
    "    print(\"Не получилось отвергнуть нулевую гипотезу\")\n",
    "    \n",
    "print('Среднее время прохождения уровня через бой -', pvp_time.mean())\n",
    "print('Среднее время прохождения уровня через строительство -', project_time.mean())   "
   ]
  },
  {
   "cell_type": "markdown",
   "metadata": {},
   "source": [
    "Отвергаем нулевую гипотезу. \n",
    "Время прохождения зависит от способа прохождения. Среднее время, затрачиваемое на строительство 323 часа, а через пвп 267. Видно приходится ждать, когда закончится постройка исследования. В бою победить быстрее."
   ]
  },
  {
   "cell_type": "markdown",
   "metadata": {},
   "source": [
    "### Проверка второй гипотезы"
   ]
  },
  {
   "cell_type": "markdown",
   "metadata": {},
   "source": [
    "H0 - источник привлечения не влияет на переход на второй уровень    \n",
    "H1 - источник привлечения влияет на переход на второй уровень     \n",
    "Критический уровень значимости = 0.05"
   ]
  },
  {
   "cell_type": "code",
   "execution_count": 53,
   "metadata": {},
   "outputs": [
    {
     "data": {
      "text/html": [
       "<div>\n",
       "<style scoped>\n",
       "    .dataframe tbody tr th:only-of-type {\n",
       "        vertical-align: middle;\n",
       "    }\n",
       "\n",
       "    .dataframe tbody tr th {\n",
       "        vertical-align: top;\n",
       "    }\n",
       "\n",
       "    .dataframe thead th {\n",
       "        text-align: right;\n",
       "    }\n",
       "</style>\n",
       "<table border=\"1\" class=\"dataframe\">\n",
       "  <thead>\n",
       "    <tr style=\"text-align: right;\">\n",
       "      <th></th>\n",
       "      <th>source</th>\n",
       "      <th>users_end_level_1</th>\n",
       "      <th>users_all</th>\n",
       "      <th>users_path</th>\n",
       "      <th>users_level_1</th>\n",
       "    </tr>\n",
       "  </thead>\n",
       "  <tbody>\n",
       "    <tr>\n",
       "      <th>0</th>\n",
       "      <td>facebook_ads</td>\n",
       "      <td>1150</td>\n",
       "      <td>2726</td>\n",
       "      <td>0.421864</td>\n",
       "      <td>1576</td>\n",
       "    </tr>\n",
       "    <tr>\n",
       "      <th>1</th>\n",
       "      <td>instagram_new_adverts</td>\n",
       "      <td>1466</td>\n",
       "      <td>3347</td>\n",
       "      <td>0.438004</td>\n",
       "      <td>1881</td>\n",
       "    </tr>\n",
       "    <tr>\n",
       "      <th>2</th>\n",
       "      <td>yandex_direct</td>\n",
       "      <td>2042</td>\n",
       "      <td>4817</td>\n",
       "      <td>0.423915</td>\n",
       "      <td>2775</td>\n",
       "    </tr>\n",
       "    <tr>\n",
       "      <th>3</th>\n",
       "      <td>youtube_channel_reklama</td>\n",
       "      <td>1159</td>\n",
       "      <td>2686</td>\n",
       "      <td>0.431497</td>\n",
       "      <td>1527</td>\n",
       "    </tr>\n",
       "  </tbody>\n",
       "</table>\n",
       "</div>"
      ],
      "text/plain": [
       "                    source  users_end_level_1  users_all  users_path  \\\n",
       "0             facebook_ads               1150       2726    0.421864   \n",
       "1    instagram_new_adverts               1466       3347    0.438004   \n",
       "2            yandex_direct               2042       4817    0.423915   \n",
       "3  youtube_channel_reklama               1159       2686    0.431497   \n",
       "\n",
       "   users_level_1  \n",
       "0           1576  \n",
       "1           1881  \n",
       "2           2775  \n",
       "3           1527  "
      ]
     },
     "execution_count": 53,
     "metadata": {},
     "output_type": "execute_result"
    }
   ],
   "source": [
    "sourse_level_2['users_level_1'] = sourse_level_2['users_all'] - sourse_level_2['users_end_level_1']\n",
    "sourse_level_2"
   ]
  },
  {
   "cell_type": "code",
   "execution_count": 54,
   "metadata": {},
   "outputs": [],
   "source": [
    "# функция с поправкой Бонферони\n",
    "def z_test(group1, group2, alpha):\n",
    "    for i in sourse_level_2.index:\n",
    "        p1 = sourse_level_2[group1][i] / sourse_level_2['users_end_level_1'].sum()\n",
    "        # пропорция успехов во второй группе:\n",
    "        p2 = sourse_level_2[group2][i] / sourse_level_2['users_level_1'].sum()\n",
    "        # пропорция успехов в комбинированном датасете:\n",
    "        p_combined = ((sourse_level_2[group1][i] + sourse_level_2[group2][i]) / sourse_level_2['users_all'].sum())\n",
    "        difference = p1 - p2\n",
    "        # считаем статистику в ст.отклонениях стандартного нормального распределения\n",
    "        z_value = difference / mth.sqrt(p_combined * (1 - p_combined) * \n",
    "                                        (1/sourse_level_2['users_end_level_1'].sum() + 1/sourse_level_2['users_level_1'].sum()))\n",
    "        # задаем стандартное нормальное распределение (среднее 0, ст.отклонение 1)\n",
    "        distr = st.norm(0, 1) \n",
    "        p_value = (1 - distr.cdf(abs(z_value))) * 2\n",
    "        print('{} p-значение: {}'.format(sourse_level_2['source'][i], p_value))\n",
    "        if (p_value < alpha/4):\n",
    "            print(\"Отвергаем нулевую гипотезу: между долями есть значимая разница\")\n",
    "        else:\n",
    "            print(\"Не получилось отвергнуть нулевую гипотезу, нет оснований считать доли разными\")\n",
    "        print('')"
   ]
  },
  {
   "cell_type": "code",
   "execution_count": 55,
   "metadata": {},
   "outputs": [
    {
     "name": "stdout",
     "output_type": "stream",
     "text": [
      "facebook_ads p-значение: 0.43510581721087327\n",
      "Не получилось отвергнуть нулевую гипотезу, нет оснований считать доли разными\n",
      "\n",
      "instagram_new_adverts p-значение: 0.19942268801334495\n",
      "Не получилось отвергнуть нулевую гипотезу, нет оснований считать доли разными\n",
      "\n",
      "yandex_direct p-значение: 0.42576169341704606\n",
      "Не получилось отвергнуть нулевую гипотезу, нет оснований считать доли разными\n",
      "\n",
      "youtube_channel_reklama p-значение: 0.7239873021953747\n",
      "Не получилось отвергнуть нулевую гипотезу, нет оснований считать доли разными\n",
      "\n"
     ]
    }
   ],
   "source": [
    "z_test('users_end_level_1', 'users_level_1', 0.05)"
   ]
  },
  {
   "cell_type": "markdown",
   "metadata": {},
   "source": [
    "Нулевую гипотезу не получилось опровергнуть. Источник привлечения не влияет на факт прохождения первого уровня."
   ]
  },
  {
   "cell_type": "markdown",
   "metadata": {},
   "source": [
    "### Выводы"
   ]
  },
  {
   "cell_type": "markdown",
   "metadata": {},
   "source": [
    "Мы проверили 2 гипотезы: \n",
    "1. Влияет ли способ прохождения на время прохождения. Припроверке выяснилось, что влияет. Среднее время затраченное на постройку исследования выше , чем победа в pvp и составляет323 часа, в то время как pvp 267 часов. \n",
    "\n",
    "2. Влияет ли источник привлечения на факт прохождения первого уровня. При проверке выявили, что не влияет."
   ]
  },
  {
   "cell_type": "markdown",
   "metadata": {},
   "source": [
    "## Итоги "
   ]
  },
  {
   "cell_type": "markdown",
   "metadata": {},
   "source": [
    "Во время предообработки данных мы проверили 3 датасета на пропуски, дубликаты, аномалии. Поработали с пропусками, удалили дубликаты и изменили тип данных.\n",
    "- Мы выявили, что пользователи были активны с 4 по 10 мая, поток в начале большой, но интересно, что с увеличением этой группы в течение месяца группа просто играющих резко сократилась. скорей всего из-за прекращения рекламы.    \n",
    "- 43% пользователей закончили 1-ый уровень      \n",
    "- **Поведенческий портрет пользователя:** это игрок, который пришел из яндекс директ или инстаграма, в среднем завершающий первый уровень почти за 12 дней, который в игре чаще всего строит здания: космопорты или сборочный цех. В среднем, совершающий по 10 действий. На следующий уровень переходит скорей всего за счет победы в pvp.\n",
    "\n",
    "- До 9 Мая мы вкладывали в трафики по убыванию и в эти дни был сильный прирост по активности пользователей, после этого пользователи пошли на спад. Скорей всего от рекламы отказываться не надо, надо просто оптимизировать затраты на нее.    \n",
    "- Самый низкий по стоимости за клиента это youtube_channel_reklama, но с него и пришло всего 19,8% пользователей (самый низкий показатель).      \n",
    "- Самый высокий показатель по притоку показал Яндекс.Директ 35,5% и относительно дешевый 0,46 за пользователя.      \n",
    "- Самый дорогой источник это Фейсбук и привлекает он немного пользователей, поэтому от него явно стоит отказаться.     \n",
    "- Инстаграм второй по количеству привлеченных клиентов 24,7% и от него самый высокий процент тех, кто прошел 1-ый уровень(больше вовлечен в игру), но стоит он недешево. Стоит больше всего в рекламе сделать упор на:\n",
    "    - Яндекс.Директ          \n",
    "    - небольшую долю закидывать на инстаграм (дорого, но эффективно) и ютуб (дешево, но небольшое количество)       \n",
    "\n",
    "\n",
    "А так же, Мы проверили 2 гипотезы: \n",
    "1. Влияет ли способ прохождения на время прохождения. Припроверке выяснилось, что влияет. Среднее время затраченное на постройку исследования выше , чем победа в pvp и составляет 323 часа, в то время как pvp 267 часов. \n",
    "\n",
    "2. Влияет ли источник привлечения на факт прохождения первого уровня. При проверке выявили, что не влияет.\n",
    "\n",
    "**Рекомендации:**\n",
    "- сделать постоянную отчетность по каналам, что бы смотреть на постоянной основе как трафик влияет на привлечение \n",
    "- переаспределить бюджет на рекламу и сделать его постоянным: сделать упро на Яндекс.Директе и Ютубе \n",
    "- для монетизации: сделать показ после боя \n",
    "- упросить постройку исследования орбитальной станции, что б сократить время на ее постройку.\n"
   ]
  },
  {
   "cell_type": "markdown",
   "metadata": {},
   "source": [
    "## Презентация"
   ]
  },
  {
   "cell_type": "markdown",
   "metadata": {},
   "source": [
    "Ссылка: https://disk.yandex.ru/i/eBUlxQ2VEoiwpg"
   ]
  }
 ],
 "metadata": {
  "ExecuteTimeLog": [
   {
    "duration": 1491,
    "start_time": "2022-08-26T14:04:18.575Z"
   },
   {
    "duration": 1472,
    "start_time": "2022-08-26T14:06:10.887Z"
   },
   {
    "duration": 37,
    "start_time": "2022-08-26T14:06:22.905Z"
   },
   {
    "duration": 13,
    "start_time": "2022-08-26T14:07:11.984Z"
   },
   {
    "duration": 219,
    "start_time": "2022-08-26T14:10:01.818Z"
   },
   {
    "duration": 57,
    "start_time": "2022-08-26T14:12:09.000Z"
   },
   {
    "duration": 299,
    "start_time": "2022-08-26T14:12:37.464Z"
   },
   {
    "duration": 26,
    "start_time": "2022-08-26T14:13:51.083Z"
   },
   {
    "duration": 32,
    "start_time": "2022-08-26T14:14:02.987Z"
   },
   {
    "duration": 22,
    "start_time": "2022-08-26T14:14:12.569Z"
   },
   {
    "duration": 19,
    "start_time": "2022-08-26T14:14:32.979Z"
   },
   {
    "duration": 39,
    "start_time": "2022-08-26T14:25:14.389Z"
   },
   {
    "duration": 63,
    "start_time": "2022-08-26T14:26:02.010Z"
   },
   {
    "duration": 14,
    "start_time": "2022-08-26T14:26:14.788Z"
   },
   {
    "duration": 10,
    "start_time": "2022-08-26T14:26:39.035Z"
   },
   {
    "duration": 14,
    "start_time": "2022-08-26T14:27:01.515Z"
   },
   {
    "duration": 25,
    "start_time": "2022-08-26T14:29:31.129Z"
   },
   {
    "duration": 23,
    "start_time": "2022-08-26T14:30:09.803Z"
   },
   {
    "duration": 26,
    "start_time": "2022-08-26T14:34:44.930Z"
   },
   {
    "duration": 25,
    "start_time": "2022-08-26T14:34:53.301Z"
   },
   {
    "duration": 12,
    "start_time": "2022-08-26T14:35:08.614Z"
   },
   {
    "duration": 30,
    "start_time": "2022-08-26T14:35:43.397Z"
   },
   {
    "duration": 15,
    "start_time": "2022-08-26T14:35:58.126Z"
   },
   {
    "duration": 13,
    "start_time": "2022-08-26T14:36:25.748Z"
   },
   {
    "duration": 80,
    "start_time": "2022-08-26T14:40:49.734Z"
   },
   {
    "duration": 210,
    "start_time": "2022-08-26T14:42:30.499Z"
   },
   {
    "duration": 20,
    "start_time": "2022-08-26T14:43:37.460Z"
   },
   {
    "duration": 21,
    "start_time": "2022-08-26T14:43:50.377Z"
   },
   {
    "duration": 37,
    "start_time": "2022-08-26T14:49:11.697Z"
   },
   {
    "duration": 19,
    "start_time": "2022-08-26T14:49:47.825Z"
   },
   {
    "duration": 27,
    "start_time": "2022-08-26T14:52:26.400Z"
   },
   {
    "duration": 72,
    "start_time": "2022-08-26T14:52:52.227Z"
   },
   {
    "duration": 14,
    "start_time": "2022-08-26T14:53:02.965Z"
   },
   {
    "duration": 10,
    "start_time": "2022-08-26T14:56:36.888Z"
   },
   {
    "duration": 14,
    "start_time": "2022-08-26T14:58:40.975Z"
   },
   {
    "duration": 10,
    "start_time": "2022-08-26T14:58:55.180Z"
   },
   {
    "duration": 14,
    "start_time": "2022-08-26T14:59:01.646Z"
   },
   {
    "duration": 13,
    "start_time": "2022-08-26T14:59:11.987Z"
   },
   {
    "duration": 14,
    "start_time": "2022-08-26T14:59:15.231Z"
   },
   {
    "duration": 14,
    "start_time": "2022-08-26T14:59:16.604Z"
   },
   {
    "duration": 11,
    "start_time": "2022-08-26T14:59:37.460Z"
   },
   {
    "duration": 13,
    "start_time": "2022-08-26T14:59:48.428Z"
   },
   {
    "duration": 1317,
    "start_time": "2022-08-26T14:59:54.153Z"
   },
   {
    "duration": 298,
    "start_time": "2022-08-26T14:59:55.472Z"
   },
   {
    "duration": 36,
    "start_time": "2022-08-26T14:59:55.772Z"
   },
   {
    "duration": 13,
    "start_time": "2022-08-26T14:59:55.810Z"
   },
   {
    "duration": 52,
    "start_time": "2022-08-26T14:59:55.826Z"
   },
   {
    "duration": 12,
    "start_time": "2022-08-26T14:59:55.880Z"
   },
   {
    "duration": 20,
    "start_time": "2022-08-26T14:59:55.894Z"
   },
   {
    "duration": 53,
    "start_time": "2022-08-26T14:59:55.916Z"
   },
   {
    "duration": 37,
    "start_time": "2022-08-26T14:59:55.971Z"
   },
   {
    "duration": 17,
    "start_time": "2022-08-26T14:59:56.010Z"
   },
   {
    "duration": 41,
    "start_time": "2022-08-26T14:59:56.029Z"
   },
   {
    "duration": 81,
    "start_time": "2022-08-26T14:59:56.071Z"
   },
   {
    "duration": 215,
    "start_time": "2022-08-26T14:59:56.154Z"
   },
   {
    "duration": 20,
    "start_time": "2022-08-26T14:59:56.372Z"
   },
   {
    "duration": 30,
    "start_time": "2022-08-26T14:59:56.394Z"
   },
   {
    "duration": 46,
    "start_time": "2022-08-26T14:59:56.425Z"
   },
   {
    "duration": 17,
    "start_time": "2022-08-26T14:59:56.473Z"
   },
   {
    "duration": 99,
    "start_time": "2022-08-26T14:59:56.493Z"
   },
   {
    "duration": 28,
    "start_time": "2022-08-26T15:00:04.571Z"
   },
   {
    "duration": 12,
    "start_time": "2022-08-26T15:00:39.945Z"
   },
   {
    "duration": 18,
    "start_time": "2022-08-26T15:02:17.899Z"
   },
   {
    "duration": 129,
    "start_time": "2022-08-26T15:03:12.592Z"
   },
   {
    "duration": 29,
    "start_time": "2022-08-26T15:03:21.343Z"
   },
   {
    "duration": 10,
    "start_time": "2022-08-26T15:04:14.112Z"
   },
   {
    "duration": 11,
    "start_time": "2022-08-26T15:04:34.059Z"
   },
   {
    "duration": 7,
    "start_time": "2022-08-26T15:04:58.606Z"
   },
   {
    "duration": 131,
    "start_time": "2022-08-26T15:05:16.461Z"
   },
   {
    "duration": 5,
    "start_time": "2022-08-26T15:05:39.260Z"
   },
   {
    "duration": 10,
    "start_time": "2022-08-26T15:06:05.099Z"
   },
   {
    "duration": 11,
    "start_time": "2022-08-26T15:06:18.046Z"
   },
   {
    "duration": 5,
    "start_time": "2022-08-26T15:07:15.486Z"
   },
   {
    "duration": 5,
    "start_time": "2022-08-26T15:08:52.270Z"
   },
   {
    "duration": 2,
    "start_time": "2022-08-26T15:15:47.126Z"
   },
   {
    "duration": 3,
    "start_time": "2022-08-26T15:16:10.194Z"
   },
   {
    "duration": 2,
    "start_time": "2022-08-26T15:16:14.492Z"
   },
   {
    "duration": 49,
    "start_time": "2022-08-29T18:47:59.126Z"
   },
   {
    "duration": 1392,
    "start_time": "2022-08-29T18:48:08.881Z"
   },
   {
    "duration": 589,
    "start_time": "2022-08-29T18:48:10.275Z"
   },
   {
    "duration": 29,
    "start_time": "2022-08-29T18:48:10.866Z"
   },
   {
    "duration": 10,
    "start_time": "2022-08-29T18:48:10.897Z"
   },
   {
    "duration": 27,
    "start_time": "2022-08-29T18:48:10.909Z"
   },
   {
    "duration": 10,
    "start_time": "2022-08-29T18:48:10.937Z"
   },
   {
    "duration": 11,
    "start_time": "2022-08-29T18:48:10.948Z"
   },
   {
    "duration": 22,
    "start_time": "2022-08-29T18:48:10.960Z"
   },
   {
    "duration": 46,
    "start_time": "2022-08-29T18:48:10.984Z"
   },
   {
    "duration": 13,
    "start_time": "2022-08-29T18:48:11.031Z"
   },
   {
    "duration": 9,
    "start_time": "2022-08-29T18:48:11.046Z"
   },
   {
    "duration": 87,
    "start_time": "2022-08-29T18:48:11.056Z"
   },
   {
    "duration": 146,
    "start_time": "2022-08-29T18:48:11.145Z"
   },
   {
    "duration": 27,
    "start_time": "2022-08-29T18:48:11.294Z"
   },
   {
    "duration": 27,
    "start_time": "2022-08-29T18:48:11.323Z"
   },
   {
    "duration": 12,
    "start_time": "2022-08-29T18:48:11.352Z"
   },
   {
    "duration": 15,
    "start_time": "2022-08-29T18:48:11.366Z"
   },
   {
    "duration": 35,
    "start_time": "2022-08-29T18:48:11.382Z"
   },
   {
    "duration": 124,
    "start_time": "2022-08-29T18:48:11.419Z"
   },
   {
    "duration": 26,
    "start_time": "2022-08-29T18:48:11.544Z"
   },
   {
    "duration": 10,
    "start_time": "2022-08-29T18:48:11.571Z"
   },
   {
    "duration": 9,
    "start_time": "2022-08-29T18:48:11.582Z"
   },
   {
    "duration": 21,
    "start_time": "2022-08-29T18:48:11.593Z"
   },
   {
    "duration": 12,
    "start_time": "2022-08-29T18:48:11.615Z"
   },
   {
    "duration": 11,
    "start_time": "2022-08-29T18:48:11.628Z"
   },
   {
    "duration": 6,
    "start_time": "2022-08-29T18:48:11.641Z"
   },
   {
    "duration": 5,
    "start_time": "2022-08-29T18:48:11.649Z"
   },
   {
    "duration": 30,
    "start_time": "2022-08-29T18:48:11.655Z"
   },
   {
    "duration": 32,
    "start_time": "2022-08-29T18:48:11.711Z"
   },
   {
    "duration": 4,
    "start_time": "2022-08-29T18:48:11.745Z"
   },
   {
    "duration": 1364,
    "start_time": "2022-08-30T16:32:24.775Z"
   },
   {
    "duration": 577,
    "start_time": "2022-08-30T16:32:26.141Z"
   },
   {
    "duration": 30,
    "start_time": "2022-08-30T16:32:26.719Z"
   },
   {
    "duration": 10,
    "start_time": "2022-08-30T16:32:26.751Z"
   },
   {
    "duration": 23,
    "start_time": "2022-08-30T16:32:26.763Z"
   },
   {
    "duration": 10,
    "start_time": "2022-08-30T16:32:26.788Z"
   },
   {
    "duration": 10,
    "start_time": "2022-08-30T16:32:26.799Z"
   },
   {
    "duration": 26,
    "start_time": "2022-08-30T16:32:26.810Z"
   },
   {
    "duration": 25,
    "start_time": "2022-08-30T16:32:26.837Z"
   },
   {
    "duration": 13,
    "start_time": "2022-08-30T16:32:26.865Z"
   },
   {
    "duration": 10,
    "start_time": "2022-08-30T16:32:26.898Z"
   },
   {
    "duration": 69,
    "start_time": "2022-08-30T16:32:26.909Z"
   },
   {
    "duration": 148,
    "start_time": "2022-08-30T16:32:26.979Z"
   },
   {
    "duration": 24,
    "start_time": "2022-08-30T16:32:27.129Z"
   },
   {
    "duration": 25,
    "start_time": "2022-08-30T16:32:27.154Z"
   },
   {
    "duration": 26,
    "start_time": "2022-08-30T16:32:27.180Z"
   },
   {
    "duration": 15,
    "start_time": "2022-08-30T16:32:27.207Z"
   },
   {
    "duration": 20,
    "start_time": "2022-08-30T16:32:27.223Z"
   },
   {
    "duration": 118,
    "start_time": "2022-08-30T16:32:27.244Z"
   },
   {
    "duration": 26,
    "start_time": "2022-08-30T16:32:27.363Z"
   },
   {
    "duration": 9,
    "start_time": "2022-08-30T16:32:27.398Z"
   },
   {
    "duration": 31,
    "start_time": "2022-08-30T16:32:27.409Z"
   },
   {
    "duration": 15,
    "start_time": "2022-08-30T16:32:27.442Z"
   },
   {
    "duration": 8,
    "start_time": "2022-08-30T16:32:27.458Z"
   },
   {
    "duration": 16,
    "start_time": "2022-08-30T16:32:27.468Z"
   },
   {
    "duration": 14,
    "start_time": "2022-08-30T16:32:27.485Z"
   },
   {
    "duration": 9,
    "start_time": "2022-08-30T16:32:27.501Z"
   },
   {
    "duration": 25,
    "start_time": "2022-08-30T16:32:27.513Z"
   },
   {
    "duration": 31,
    "start_time": "2022-08-30T16:32:27.540Z"
   },
   {
    "duration": 4,
    "start_time": "2022-08-30T16:32:27.572Z"
   },
   {
    "duration": 275,
    "start_time": "2022-08-30T16:32:27.577Z"
   },
   {
    "duration": 140,
    "start_time": "2022-08-30T16:44:35.835Z"
   },
   {
    "duration": 31,
    "start_time": "2022-08-30T16:45:08.338Z"
   },
   {
    "duration": 78,
    "start_time": "2022-08-30T17:01:33.320Z"
   },
   {
    "duration": 49,
    "start_time": "2022-08-30T17:03:39.478Z"
   },
   {
    "duration": 116,
    "start_time": "2022-08-30T17:04:58.018Z"
   },
   {
    "duration": 9,
    "start_time": "2022-08-30T17:05:48.082Z"
   },
   {
    "duration": 95,
    "start_time": "2022-08-30T17:09:28.309Z"
   },
   {
    "duration": 22,
    "start_time": "2022-08-30T17:09:52.048Z"
   },
   {
    "duration": 85,
    "start_time": "2022-08-30T17:09:54.635Z"
   },
   {
    "duration": 24,
    "start_time": "2022-08-30T17:12:13.978Z"
   },
   {
    "duration": 24,
    "start_time": "2022-08-30T17:13:39.352Z"
   },
   {
    "duration": 1175,
    "start_time": "2022-08-30T17:13:45.082Z"
   },
   {
    "duration": 257,
    "start_time": "2022-08-30T17:13:46.259Z"
   },
   {
    "duration": 29,
    "start_time": "2022-08-30T17:13:46.518Z"
   },
   {
    "duration": 10,
    "start_time": "2022-08-30T17:13:46.549Z"
   },
   {
    "duration": 24,
    "start_time": "2022-08-30T17:13:46.560Z"
   },
   {
    "duration": 8,
    "start_time": "2022-08-30T17:13:46.585Z"
   },
   {
    "duration": 9,
    "start_time": "2022-08-30T17:13:46.594Z"
   },
   {
    "duration": 26,
    "start_time": "2022-08-30T17:13:46.605Z"
   },
   {
    "duration": 71,
    "start_time": "2022-08-30T17:13:46.633Z"
   },
   {
    "duration": 13,
    "start_time": "2022-08-30T17:13:46.708Z"
   },
   {
    "duration": 11,
    "start_time": "2022-08-30T17:13:46.723Z"
   },
   {
    "duration": 90,
    "start_time": "2022-08-30T17:13:46.735Z"
   },
   {
    "duration": 150,
    "start_time": "2022-08-30T17:13:46.826Z"
   },
   {
    "duration": 28,
    "start_time": "2022-08-30T17:13:46.978Z"
   },
   {
    "duration": 25,
    "start_time": "2022-08-30T17:13:47.008Z"
   },
   {
    "duration": 13,
    "start_time": "2022-08-30T17:13:47.035Z"
   },
   {
    "duration": 11,
    "start_time": "2022-08-30T17:13:47.049Z"
   },
   {
    "duration": 46,
    "start_time": "2022-08-30T17:13:47.061Z"
   },
   {
    "duration": 120,
    "start_time": "2022-08-30T17:13:47.108Z"
   },
   {
    "duration": 26,
    "start_time": "2022-08-30T17:13:47.229Z"
   },
   {
    "duration": 9,
    "start_time": "2022-08-30T17:13:47.256Z"
   },
   {
    "duration": 10,
    "start_time": "2022-08-30T17:13:47.267Z"
   },
   {
    "duration": 22,
    "start_time": "2022-08-30T17:13:47.278Z"
   },
   {
    "duration": 8,
    "start_time": "2022-08-30T17:13:47.301Z"
   },
   {
    "duration": 9,
    "start_time": "2022-08-30T17:13:47.311Z"
   },
   {
    "duration": 5,
    "start_time": "2022-08-30T17:13:47.323Z"
   },
   {
    "duration": 7,
    "start_time": "2022-08-30T17:13:47.329Z"
   },
   {
    "duration": 30,
    "start_time": "2022-08-30T17:13:47.340Z"
   },
   {
    "duration": 59,
    "start_time": "2022-08-30T17:13:47.371Z"
   },
   {
    "duration": 4,
    "start_time": "2022-08-30T17:13:47.432Z"
   },
   {
    "duration": 281,
    "start_time": "2022-08-30T17:13:47.438Z"
   },
   {
    "duration": 35,
    "start_time": "2022-08-30T17:13:47.721Z"
   },
   {
    "duration": 69,
    "start_time": "2022-08-30T17:13:47.757Z"
   },
   {
    "duration": 9,
    "start_time": "2022-08-30T17:13:47.828Z"
   },
   {
    "duration": 23,
    "start_time": "2022-08-30T17:13:47.838Z"
   },
   {
    "duration": 92,
    "start_time": "2022-08-30T17:13:47.863Z"
   },
   {
    "duration": 141,
    "start_time": "2022-08-30T17:13:47.957Z"
   },
   {
    "duration": 9,
    "start_time": "2022-08-30T17:16:38.567Z"
   },
   {
    "duration": 30,
    "start_time": "2022-08-30T17:16:53.019Z"
   },
   {
    "duration": 36,
    "start_time": "2022-08-30T17:17:42.992Z"
   },
   {
    "duration": 65,
    "start_time": "2022-08-30T17:18:30.472Z"
   },
   {
    "duration": 64,
    "start_time": "2022-08-30T17:18:35.244Z"
   },
   {
    "duration": 75,
    "start_time": "2022-08-30T17:19:09.928Z"
   },
   {
    "duration": 80,
    "start_time": "2022-08-30T17:19:20.654Z"
   },
   {
    "duration": 120,
    "start_time": "2022-08-30T17:22:03.282Z"
   },
   {
    "duration": 17,
    "start_time": "2022-08-30T17:29:48.188Z"
   },
   {
    "duration": 8,
    "start_time": "2022-08-30T17:32:47.848Z"
   },
   {
    "duration": 38,
    "start_time": "2022-08-30T17:32:55.846Z"
   },
   {
    "duration": 48,
    "start_time": "2022-08-30T17:36:06.036Z"
   },
   {
    "duration": 37,
    "start_time": "2022-08-30T17:36:13.253Z"
   },
   {
    "duration": 51,
    "start_time": "2022-08-30T17:36:26.439Z"
   },
   {
    "duration": 83,
    "start_time": "2022-08-30T17:40:34.186Z"
   },
   {
    "duration": 1079,
    "start_time": "2022-08-30T17:42:29.334Z"
   },
   {
    "duration": 228,
    "start_time": "2022-08-30T17:42:30.415Z"
   },
   {
    "duration": 29,
    "start_time": "2022-08-30T17:42:30.644Z"
   },
   {
    "duration": 23,
    "start_time": "2022-08-30T17:42:30.675Z"
   },
   {
    "duration": 46,
    "start_time": "2022-08-30T17:42:30.699Z"
   },
   {
    "duration": 22,
    "start_time": "2022-08-30T17:42:30.746Z"
   },
   {
    "duration": 35,
    "start_time": "2022-08-30T17:42:30.770Z"
   },
   {
    "duration": 46,
    "start_time": "2022-08-30T17:42:30.806Z"
   },
   {
    "duration": 26,
    "start_time": "2022-08-30T17:42:30.854Z"
   },
   {
    "duration": 16,
    "start_time": "2022-08-30T17:42:30.883Z"
   },
   {
    "duration": 35,
    "start_time": "2022-08-30T17:42:30.900Z"
   },
   {
    "duration": 80,
    "start_time": "2022-08-30T17:42:30.936Z"
   },
   {
    "duration": 153,
    "start_time": "2022-08-30T17:42:31.017Z"
   },
   {
    "duration": 43,
    "start_time": "2022-08-30T17:42:31.172Z"
   },
   {
    "duration": 32,
    "start_time": "2022-08-30T17:42:31.217Z"
   },
   {
    "duration": 13,
    "start_time": "2022-08-30T17:42:31.250Z"
   },
   {
    "duration": 25,
    "start_time": "2022-08-30T17:42:31.264Z"
   },
   {
    "duration": 32,
    "start_time": "2022-08-30T17:42:31.291Z"
   },
   {
    "duration": 126,
    "start_time": "2022-08-30T17:42:31.325Z"
   },
   {
    "duration": 31,
    "start_time": "2022-08-30T17:42:31.453Z"
   },
   {
    "duration": 33,
    "start_time": "2022-08-30T17:42:31.486Z"
   },
   {
    "duration": 15,
    "start_time": "2022-08-30T17:42:31.521Z"
   },
   {
    "duration": 14,
    "start_time": "2022-08-30T17:42:31.538Z"
   },
   {
    "duration": 20,
    "start_time": "2022-08-30T17:42:31.553Z"
   },
   {
    "duration": 9,
    "start_time": "2022-08-30T17:42:31.575Z"
   },
   {
    "duration": 14,
    "start_time": "2022-08-30T17:42:31.586Z"
   },
   {
    "duration": 10,
    "start_time": "2022-08-30T17:42:31.602Z"
   },
   {
    "duration": 38,
    "start_time": "2022-08-30T17:42:31.615Z"
   },
   {
    "duration": 33,
    "start_time": "2022-08-30T17:42:31.654Z"
   },
   {
    "duration": 4,
    "start_time": "2022-08-30T17:42:31.698Z"
   },
   {
    "duration": 274,
    "start_time": "2022-08-30T17:42:31.704Z"
   },
   {
    "duration": 50,
    "start_time": "2022-08-30T17:42:31.980Z"
   },
   {
    "duration": 115,
    "start_time": "2022-08-30T17:42:32.032Z"
   },
   {
    "duration": 0,
    "start_time": "2022-08-30T17:42:32.148Z"
   },
   {
    "duration": 0,
    "start_time": "2022-08-30T17:42:32.149Z"
   },
   {
    "duration": 0,
    "start_time": "2022-08-30T17:42:32.151Z"
   },
   {
    "duration": 0,
    "start_time": "2022-08-30T17:42:32.151Z"
   },
   {
    "duration": 0,
    "start_time": "2022-08-30T17:42:32.152Z"
   },
   {
    "duration": 0,
    "start_time": "2022-08-30T17:42:32.153Z"
   },
   {
    "duration": 0,
    "start_time": "2022-08-30T17:42:32.154Z"
   },
   {
    "duration": 0,
    "start_time": "2022-08-30T17:42:32.154Z"
   },
   {
    "duration": 0,
    "start_time": "2022-08-30T17:42:32.156Z"
   },
   {
    "duration": 0,
    "start_time": "2022-08-30T17:42:32.156Z"
   },
   {
    "duration": 1139,
    "start_time": "2022-08-30T17:42:58.315Z"
   },
   {
    "duration": 239,
    "start_time": "2022-08-30T17:42:59.455Z"
   },
   {
    "duration": 29,
    "start_time": "2022-08-30T17:42:59.695Z"
   },
   {
    "duration": 12,
    "start_time": "2022-08-30T17:42:59.725Z"
   },
   {
    "duration": 34,
    "start_time": "2022-08-30T17:42:59.740Z"
   },
   {
    "duration": 37,
    "start_time": "2022-08-30T17:42:59.775Z"
   },
   {
    "duration": 21,
    "start_time": "2022-08-30T17:42:59.813Z"
   },
   {
    "duration": 28,
    "start_time": "2022-08-30T17:42:59.835Z"
   },
   {
    "duration": 26,
    "start_time": "2022-08-30T17:42:59.865Z"
   },
   {
    "duration": 14,
    "start_time": "2022-08-30T17:42:59.893Z"
   },
   {
    "duration": 11,
    "start_time": "2022-08-30T17:42:59.909Z"
   },
   {
    "duration": 79,
    "start_time": "2022-08-30T17:42:59.922Z"
   },
   {
    "duration": 160,
    "start_time": "2022-08-30T17:43:00.003Z"
   },
   {
    "duration": 22,
    "start_time": "2022-08-30T17:43:00.167Z"
   },
   {
    "duration": 33,
    "start_time": "2022-08-30T17:43:00.190Z"
   },
   {
    "duration": 12,
    "start_time": "2022-08-30T17:43:00.225Z"
   },
   {
    "duration": 18,
    "start_time": "2022-08-30T17:43:00.239Z"
   },
   {
    "duration": 33,
    "start_time": "2022-08-30T17:43:00.258Z"
   },
   {
    "duration": 111,
    "start_time": "2022-08-30T17:43:00.293Z"
   },
   {
    "duration": 26,
    "start_time": "2022-08-30T17:43:00.406Z"
   },
   {
    "duration": 25,
    "start_time": "2022-08-30T17:43:00.433Z"
   },
   {
    "duration": 35,
    "start_time": "2022-08-30T17:43:00.460Z"
   },
   {
    "duration": 11,
    "start_time": "2022-08-30T17:43:00.496Z"
   },
   {
    "duration": 27,
    "start_time": "2022-08-30T17:43:00.509Z"
   },
   {
    "duration": 11,
    "start_time": "2022-08-30T17:43:00.537Z"
   },
   {
    "duration": 84,
    "start_time": "2022-08-30T17:43:00.549Z"
   },
   {
    "duration": 22,
    "start_time": "2022-08-30T17:43:00.635Z"
   },
   {
    "duration": 46,
    "start_time": "2022-08-30T17:43:00.658Z"
   },
   {
    "duration": 32,
    "start_time": "2022-08-30T17:43:00.706Z"
   },
   {
    "duration": 4,
    "start_time": "2022-08-30T17:43:00.740Z"
   },
   {
    "duration": 279,
    "start_time": "2022-08-30T17:43:00.745Z"
   },
   {
    "duration": 40,
    "start_time": "2022-08-30T17:43:01.025Z"
   },
   {
    "duration": 140,
    "start_time": "2022-08-30T17:43:01.067Z"
   },
   {
    "duration": 91,
    "start_time": "2022-08-30T17:43:01.209Z"
   },
   {
    "duration": 52,
    "start_time": "2022-08-30T17:43:01.303Z"
   },
   {
    "duration": 93,
    "start_time": "2022-08-30T17:43:01.357Z"
   },
   {
    "duration": 8,
    "start_time": "2022-08-30T17:43:01.451Z"
   },
   {
    "duration": 112,
    "start_time": "2022-08-30T17:43:01.461Z"
   },
   {
    "duration": 189,
    "start_time": "2022-08-30T17:43:01.574Z"
   },
   {
    "duration": 52,
    "start_time": "2022-08-30T17:43:01.765Z"
   },
   {
    "duration": 0,
    "start_time": "2022-08-30T17:43:01.819Z"
   },
   {
    "duration": 0,
    "start_time": "2022-08-30T17:43:01.821Z"
   },
   {
    "duration": 0,
    "start_time": "2022-08-30T17:43:01.823Z"
   },
   {
    "duration": 35,
    "start_time": "2022-08-30T17:43:22.343Z"
   },
   {
    "duration": 71,
    "start_time": "2022-08-30T17:43:22.722Z"
   },
   {
    "duration": 16,
    "start_time": "2022-08-30T17:43:23.116Z"
   },
   {
    "duration": 37,
    "start_time": "2022-08-30T17:45:05.689Z"
   },
   {
    "duration": 144,
    "start_time": "2022-08-30T17:46:44.304Z"
   },
   {
    "duration": 9,
    "start_time": "2022-08-30T17:48:04.230Z"
   },
   {
    "duration": 18,
    "start_time": "2022-08-30T17:50:52.498Z"
   },
   {
    "duration": 19,
    "start_time": "2022-08-30T17:51:18.100Z"
   },
   {
    "duration": 17,
    "start_time": "2022-08-30T17:51:51.169Z"
   },
   {
    "duration": 20,
    "start_time": "2022-08-30T17:54:04.953Z"
   },
   {
    "duration": 38,
    "start_time": "2022-08-30T17:58:14.520Z"
   },
   {
    "duration": 51,
    "start_time": "2022-08-30T18:13:48.576Z"
   },
   {
    "duration": 10,
    "start_time": "2022-08-30T18:14:37.048Z"
   },
   {
    "duration": 51,
    "start_time": "2022-08-30T18:17:11.443Z"
   },
   {
    "duration": 8,
    "start_time": "2022-08-30T18:17:27.437Z"
   },
   {
    "duration": 13,
    "start_time": "2022-08-30T18:17:51.824Z"
   },
   {
    "duration": 68,
    "start_time": "2022-08-30T18:18:11.841Z"
   },
   {
    "duration": 59,
    "start_time": "2022-08-30T18:18:23.522Z"
   },
   {
    "duration": 48,
    "start_time": "2022-08-30T18:18:54.889Z"
   },
   {
    "duration": 858,
    "start_time": "2022-08-30T18:19:34.476Z"
   },
   {
    "duration": 12,
    "start_time": "2022-08-30T18:19:49.618Z"
   },
   {
    "duration": 1129,
    "start_time": "2022-08-30T18:21:54.576Z"
   },
   {
    "duration": 17,
    "start_time": "2022-08-30T18:22:14.019Z"
   },
   {
    "duration": 50,
    "start_time": "2022-08-30T18:28:44.244Z"
   },
   {
    "duration": 44,
    "start_time": "2022-08-30T18:28:57.365Z"
   },
   {
    "duration": 11,
    "start_time": "2022-08-30T18:29:11.567Z"
   },
   {
    "duration": 946,
    "start_time": "2022-08-30T18:29:33.123Z"
   },
   {
    "duration": 17,
    "start_time": "2022-08-30T18:29:46.329Z"
   },
   {
    "duration": 1106,
    "start_time": "2022-08-30T18:45:41.820Z"
   },
   {
    "duration": 242,
    "start_time": "2022-08-30T18:45:42.928Z"
   },
   {
    "duration": 28,
    "start_time": "2022-08-30T18:45:43.172Z"
   },
   {
    "duration": 10,
    "start_time": "2022-08-30T18:45:43.202Z"
   },
   {
    "duration": 24,
    "start_time": "2022-08-30T18:45:43.214Z"
   },
   {
    "duration": 8,
    "start_time": "2022-08-30T18:45:43.239Z"
   },
   {
    "duration": 12,
    "start_time": "2022-08-30T18:45:43.248Z"
   },
   {
    "duration": 37,
    "start_time": "2022-08-30T18:45:43.262Z"
   },
   {
    "duration": 26,
    "start_time": "2022-08-30T18:45:43.300Z"
   },
   {
    "duration": 14,
    "start_time": "2022-08-30T18:45:43.327Z"
   },
   {
    "duration": 10,
    "start_time": "2022-08-30T18:45:43.342Z"
   },
   {
    "duration": 95,
    "start_time": "2022-08-30T18:45:43.354Z"
   },
   {
    "duration": 151,
    "start_time": "2022-08-30T18:45:43.451Z"
   },
   {
    "duration": 24,
    "start_time": "2022-08-30T18:45:43.606Z"
   },
   {
    "duration": 24,
    "start_time": "2022-08-30T18:45:43.632Z"
   },
   {
    "duration": 12,
    "start_time": "2022-08-30T18:45:43.658Z"
   },
   {
    "duration": 34,
    "start_time": "2022-08-30T18:45:43.671Z"
   },
   {
    "duration": 20,
    "start_time": "2022-08-30T18:45:43.706Z"
   },
   {
    "duration": 123,
    "start_time": "2022-08-30T18:45:43.727Z"
   },
   {
    "duration": 25,
    "start_time": "2022-08-30T18:45:43.851Z"
   },
   {
    "duration": 22,
    "start_time": "2022-08-30T18:45:43.878Z"
   },
   {
    "duration": 12,
    "start_time": "2022-08-30T18:45:43.902Z"
   },
   {
    "duration": 18,
    "start_time": "2022-08-30T18:45:43.915Z"
   },
   {
    "duration": 17,
    "start_time": "2022-08-30T18:45:43.935Z"
   },
   {
    "duration": 11,
    "start_time": "2022-08-30T18:45:43.953Z"
   },
   {
    "duration": 6,
    "start_time": "2022-08-30T18:45:43.966Z"
   },
   {
    "duration": 6,
    "start_time": "2022-08-30T18:45:43.973Z"
   },
   {
    "duration": 42,
    "start_time": "2022-08-30T18:45:43.999Z"
   },
   {
    "duration": 56,
    "start_time": "2022-08-30T18:45:44.043Z"
   },
   {
    "duration": 5,
    "start_time": "2022-08-30T18:45:44.100Z"
   },
   {
    "duration": 283,
    "start_time": "2022-08-30T18:45:44.106Z"
   },
   {
    "duration": 52,
    "start_time": "2022-08-30T18:45:44.392Z"
   },
   {
    "duration": 81,
    "start_time": "2022-08-30T18:45:44.446Z"
   },
   {
    "duration": 98,
    "start_time": "2022-08-30T18:45:44.529Z"
   },
   {
    "duration": 39,
    "start_time": "2022-08-30T18:45:44.629Z"
   },
   {
    "duration": 49,
    "start_time": "2022-08-30T18:45:44.670Z"
   },
   {
    "duration": 51,
    "start_time": "2022-08-30T18:45:44.721Z"
   },
   {
    "duration": 8,
    "start_time": "2022-08-30T18:45:44.774Z"
   },
   {
    "duration": 45,
    "start_time": "2022-08-30T18:45:44.783Z"
   },
   {
    "duration": 153,
    "start_time": "2022-08-30T18:45:44.830Z"
   },
   {
    "duration": 42,
    "start_time": "2022-08-30T18:45:44.986Z"
   },
   {
    "duration": 82,
    "start_time": "2022-08-30T18:45:45.030Z"
   },
   {
    "duration": 17,
    "start_time": "2022-08-30T18:45:45.114Z"
   },
   {
    "duration": 67,
    "start_time": "2022-08-30T18:45:45.132Z"
   },
   {
    "duration": 10,
    "start_time": "2022-08-30T18:45:45.200Z"
   },
   {
    "duration": 14,
    "start_time": "2022-08-30T18:45:45.211Z"
   },
   {
    "duration": 13,
    "start_time": "2022-08-30T18:45:45.227Z"
   },
   {
    "duration": 1150,
    "start_time": "2022-08-30T18:46:33.086Z"
   },
   {
    "duration": 257,
    "start_time": "2022-08-30T18:46:34.238Z"
   },
   {
    "duration": 43,
    "start_time": "2022-08-30T18:46:34.497Z"
   },
   {
    "duration": 17,
    "start_time": "2022-08-30T18:46:34.542Z"
   },
   {
    "duration": 46,
    "start_time": "2022-08-30T18:46:34.561Z"
   },
   {
    "duration": 14,
    "start_time": "2022-08-30T18:46:34.609Z"
   },
   {
    "duration": 22,
    "start_time": "2022-08-30T18:46:34.624Z"
   },
   {
    "duration": 32,
    "start_time": "2022-08-30T18:46:34.648Z"
   },
   {
    "duration": 31,
    "start_time": "2022-08-30T18:46:34.682Z"
   },
   {
    "duration": 13,
    "start_time": "2022-08-30T18:46:34.717Z"
   },
   {
    "duration": 11,
    "start_time": "2022-08-30T18:46:34.732Z"
   },
   {
    "duration": 85,
    "start_time": "2022-08-30T18:46:34.744Z"
   },
   {
    "duration": 158,
    "start_time": "2022-08-30T18:46:34.830Z"
   },
   {
    "duration": 24,
    "start_time": "2022-08-30T18:46:34.989Z"
   },
   {
    "duration": 26,
    "start_time": "2022-08-30T18:46:35.014Z"
   },
   {
    "duration": 12,
    "start_time": "2022-08-30T18:46:35.042Z"
   },
   {
    "duration": 13,
    "start_time": "2022-08-30T18:46:35.055Z"
   },
   {
    "duration": 37,
    "start_time": "2022-08-30T18:46:35.069Z"
   },
   {
    "duration": 114,
    "start_time": "2022-08-30T18:46:35.108Z"
   },
   {
    "duration": 35,
    "start_time": "2022-08-30T18:46:35.224Z"
   },
   {
    "duration": 8,
    "start_time": "2022-08-30T18:46:35.261Z"
   },
   {
    "duration": 27,
    "start_time": "2022-08-30T18:46:35.271Z"
   },
   {
    "duration": 4,
    "start_time": "2022-08-30T18:46:35.300Z"
   },
   {
    "duration": 23,
    "start_time": "2022-08-30T18:46:35.305Z"
   },
   {
    "duration": 8,
    "start_time": "2022-08-30T18:46:35.329Z"
   },
   {
    "duration": 7,
    "start_time": "2022-08-30T18:46:35.339Z"
   },
   {
    "duration": 12,
    "start_time": "2022-08-30T18:46:35.347Z"
   },
   {
    "duration": 36,
    "start_time": "2022-08-30T18:46:35.362Z"
   },
   {
    "duration": 31,
    "start_time": "2022-08-30T18:46:35.399Z"
   },
   {
    "duration": 4,
    "start_time": "2022-08-30T18:46:35.432Z"
   },
   {
    "duration": 285,
    "start_time": "2022-08-30T18:46:35.437Z"
   },
   {
    "duration": 41,
    "start_time": "2022-08-30T18:46:35.724Z"
   },
   {
    "duration": 64,
    "start_time": "2022-08-30T18:46:35.766Z"
   },
   {
    "duration": 96,
    "start_time": "2022-08-30T18:46:35.831Z"
   },
   {
    "duration": 39,
    "start_time": "2022-08-30T18:46:35.928Z"
   },
   {
    "duration": 56,
    "start_time": "2022-08-30T18:46:35.969Z"
   },
   {
    "duration": 55,
    "start_time": "2022-08-30T18:46:36.027Z"
   },
   {
    "duration": 22,
    "start_time": "2022-08-30T18:46:36.083Z"
   },
   {
    "duration": 35,
    "start_time": "2022-08-30T18:46:36.106Z"
   },
   {
    "duration": 163,
    "start_time": "2022-08-30T18:46:36.143Z"
   },
   {
    "duration": 35,
    "start_time": "2022-08-30T18:46:36.308Z"
   },
   {
    "duration": 86,
    "start_time": "2022-08-30T18:46:36.344Z"
   },
   {
    "duration": 16,
    "start_time": "2022-08-30T18:46:36.432Z"
   },
   {
    "duration": 67,
    "start_time": "2022-08-30T18:46:36.449Z"
   },
   {
    "duration": 10,
    "start_time": "2022-08-30T18:46:36.517Z"
   },
   {
    "duration": 13,
    "start_time": "2022-08-30T18:46:36.529Z"
   },
   {
    "duration": 10,
    "start_time": "2022-08-30T18:46:36.543Z"
   },
   {
    "duration": 1082,
    "start_time": "2022-08-30T18:47:30.841Z"
   },
   {
    "duration": 238,
    "start_time": "2022-08-30T18:47:31.925Z"
   },
   {
    "duration": 34,
    "start_time": "2022-08-30T18:47:32.164Z"
   },
   {
    "duration": 15,
    "start_time": "2022-08-30T18:47:32.200Z"
   },
   {
    "duration": 31,
    "start_time": "2022-08-30T18:47:32.217Z"
   },
   {
    "duration": 21,
    "start_time": "2022-08-30T18:47:32.249Z"
   },
   {
    "duration": 14,
    "start_time": "2022-08-30T18:47:32.272Z"
   },
   {
    "duration": 26,
    "start_time": "2022-08-30T18:47:32.287Z"
   },
   {
    "duration": 25,
    "start_time": "2022-08-30T18:47:32.315Z"
   },
   {
    "duration": 13,
    "start_time": "2022-08-30T18:47:32.342Z"
   },
   {
    "duration": 8,
    "start_time": "2022-08-30T18:47:32.357Z"
   },
   {
    "duration": 81,
    "start_time": "2022-08-30T18:47:32.367Z"
   },
   {
    "duration": 136,
    "start_time": "2022-08-30T18:47:32.449Z"
   },
   {
    "duration": 32,
    "start_time": "2022-08-30T18:47:32.586Z"
   },
   {
    "duration": 27,
    "start_time": "2022-08-30T18:47:32.619Z"
   },
   {
    "duration": 12,
    "start_time": "2022-08-30T18:47:32.648Z"
   },
   {
    "duration": 11,
    "start_time": "2022-08-30T18:47:32.661Z"
   },
   {
    "duration": 40,
    "start_time": "2022-08-30T18:47:32.674Z"
   },
   {
    "duration": 116,
    "start_time": "2022-08-30T18:47:32.715Z"
   },
   {
    "duration": 25,
    "start_time": "2022-08-30T18:47:32.833Z"
   },
   {
    "duration": 9,
    "start_time": "2022-08-30T18:47:32.860Z"
   },
   {
    "duration": 11,
    "start_time": "2022-08-30T18:47:32.870Z"
   },
   {
    "duration": 7,
    "start_time": "2022-08-30T18:47:32.898Z"
   },
   {
    "duration": 10,
    "start_time": "2022-08-30T18:47:32.906Z"
   },
   {
    "duration": 9,
    "start_time": "2022-08-30T18:47:32.917Z"
   },
   {
    "duration": 5,
    "start_time": "2022-08-30T18:47:32.928Z"
   },
   {
    "duration": 9,
    "start_time": "2022-08-30T18:47:32.935Z"
   },
   {
    "duration": 52,
    "start_time": "2022-08-30T18:47:32.947Z"
   },
   {
    "duration": 32,
    "start_time": "2022-08-30T18:47:33.001Z"
   },
   {
    "duration": 4,
    "start_time": "2022-08-30T18:47:33.035Z"
   },
   {
    "duration": 281,
    "start_time": "2022-08-30T18:47:33.040Z"
   },
   {
    "duration": 40,
    "start_time": "2022-08-30T18:47:33.322Z"
   },
   {
    "duration": 58,
    "start_time": "2022-08-30T18:47:33.363Z"
   },
   {
    "duration": 95,
    "start_time": "2022-08-30T18:47:33.423Z"
   },
   {
    "duration": 35,
    "start_time": "2022-08-30T18:47:33.519Z"
   },
   {
    "duration": 46,
    "start_time": "2022-08-30T18:47:33.555Z"
   },
   {
    "duration": 51,
    "start_time": "2022-08-30T18:47:33.602Z"
   },
   {
    "duration": 7,
    "start_time": "2022-08-30T18:47:33.654Z"
   },
   {
    "duration": 208,
    "start_time": "2022-08-30T18:47:33.662Z"
   },
   {
    "duration": 0,
    "start_time": "2022-08-30T18:47:33.871Z"
   },
   {
    "duration": 0,
    "start_time": "2022-08-30T18:47:33.873Z"
   },
   {
    "duration": 0,
    "start_time": "2022-08-30T18:47:33.874Z"
   },
   {
    "duration": 0,
    "start_time": "2022-08-30T18:47:33.875Z"
   },
   {
    "duration": 0,
    "start_time": "2022-08-30T18:47:33.875Z"
   },
   {
    "duration": 0,
    "start_time": "2022-08-30T18:47:33.876Z"
   },
   {
    "duration": 0,
    "start_time": "2022-08-30T18:47:33.877Z"
   },
   {
    "duration": 21,
    "start_time": "2022-08-30T18:48:23.262Z"
   },
   {
    "duration": 81,
    "start_time": "2022-08-30T18:48:26.081Z"
   },
   {
    "duration": 1154,
    "start_time": "2022-08-30T18:48:32.595Z"
   },
   {
    "duration": 257,
    "start_time": "2022-08-30T18:48:33.752Z"
   },
   {
    "duration": 32,
    "start_time": "2022-08-30T18:48:34.011Z"
   },
   {
    "duration": 11,
    "start_time": "2022-08-30T18:48:34.045Z"
   },
   {
    "duration": 25,
    "start_time": "2022-08-30T18:48:34.057Z"
   },
   {
    "duration": 22,
    "start_time": "2022-08-30T18:48:34.083Z"
   },
   {
    "duration": 11,
    "start_time": "2022-08-30T18:48:34.106Z"
   },
   {
    "duration": 25,
    "start_time": "2022-08-30T18:48:34.118Z"
   },
   {
    "duration": 25,
    "start_time": "2022-08-30T18:48:34.145Z"
   },
   {
    "duration": 31,
    "start_time": "2022-08-30T18:48:34.173Z"
   },
   {
    "duration": 10,
    "start_time": "2022-08-30T18:48:34.205Z"
   },
   {
    "duration": 65,
    "start_time": "2022-08-30T18:48:34.217Z"
   },
   {
    "duration": 172,
    "start_time": "2022-08-30T18:48:34.298Z"
   },
   {
    "duration": 31,
    "start_time": "2022-08-30T18:48:34.472Z"
   },
   {
    "duration": 38,
    "start_time": "2022-08-30T18:48:34.506Z"
   },
   {
    "duration": 16,
    "start_time": "2022-08-30T18:48:34.546Z"
   },
   {
    "duration": 34,
    "start_time": "2022-08-30T18:48:34.564Z"
   },
   {
    "duration": 26,
    "start_time": "2022-08-30T18:48:34.600Z"
   },
   {
    "duration": 121,
    "start_time": "2022-08-30T18:48:34.627Z"
   },
   {
    "duration": 25,
    "start_time": "2022-08-30T18:48:34.749Z"
   },
   {
    "duration": 13,
    "start_time": "2022-08-30T18:48:34.776Z"
   },
   {
    "duration": 14,
    "start_time": "2022-08-30T18:48:34.790Z"
   },
   {
    "duration": 8,
    "start_time": "2022-08-30T18:48:34.805Z"
   },
   {
    "duration": 14,
    "start_time": "2022-08-30T18:48:34.815Z"
   },
   {
    "duration": 9,
    "start_time": "2022-08-30T18:48:34.831Z"
   },
   {
    "duration": 8,
    "start_time": "2022-08-30T18:48:34.841Z"
   },
   {
    "duration": 7,
    "start_time": "2022-08-30T18:48:34.850Z"
   },
   {
    "duration": 33,
    "start_time": "2022-08-30T18:48:34.899Z"
   },
   {
    "duration": 86,
    "start_time": "2022-08-30T18:48:34.934Z"
   },
   {
    "duration": 4,
    "start_time": "2022-08-30T18:48:35.022Z"
   },
   {
    "duration": 310,
    "start_time": "2022-08-30T18:48:35.027Z"
   },
   {
    "duration": 39,
    "start_time": "2022-08-30T18:48:35.338Z"
   },
   {
    "duration": 58,
    "start_time": "2022-08-30T18:48:35.379Z"
   },
   {
    "duration": 91,
    "start_time": "2022-08-30T18:48:35.439Z"
   },
   {
    "duration": 35,
    "start_time": "2022-08-30T18:48:35.531Z"
   },
   {
    "duration": 42,
    "start_time": "2022-08-30T18:48:35.568Z"
   },
   {
    "duration": 53,
    "start_time": "2022-08-30T18:48:35.611Z"
   },
   {
    "duration": 7,
    "start_time": "2022-08-30T18:48:35.666Z"
   },
   {
    "duration": 38,
    "start_time": "2022-08-30T18:48:35.674Z"
   },
   {
    "duration": 87,
    "start_time": "2022-08-30T18:48:35.713Z"
   },
   {
    "duration": 36,
    "start_time": "2022-08-30T18:48:35.802Z"
   },
   {
    "duration": 86,
    "start_time": "2022-08-30T18:48:35.839Z"
   },
   {
    "duration": 19,
    "start_time": "2022-08-30T18:48:35.927Z"
   },
   {
    "duration": 73,
    "start_time": "2022-08-30T18:48:35.948Z"
   },
   {
    "duration": 10,
    "start_time": "2022-08-30T18:48:36.022Z"
   },
   {
    "duration": 31,
    "start_time": "2022-08-30T18:48:36.033Z"
   },
   {
    "duration": 26,
    "start_time": "2022-08-30T18:48:36.065Z"
   },
   {
    "duration": 114,
    "start_time": "2022-08-30T18:52:29.546Z"
   },
   {
    "duration": 323,
    "start_time": "2022-08-30T18:52:37.016Z"
   },
   {
    "duration": 10,
    "start_time": "2022-08-30T18:53:38.373Z"
   },
   {
    "duration": 154,
    "start_time": "2022-08-30T18:54:06.082Z"
   },
   {
    "duration": 85,
    "start_time": "2022-08-30T18:54:15.758Z"
   },
   {
    "duration": 35,
    "start_time": "2022-08-30T19:08:11.465Z"
   },
   {
    "duration": 57,
    "start_time": "2022-08-30T19:09:56.093Z"
   },
   {
    "duration": 2,
    "start_time": "2022-08-30T19:14:16.230Z"
   },
   {
    "duration": 7,
    "start_time": "2022-08-30T19:27:20.673Z"
   },
   {
    "duration": 8,
    "start_time": "2022-08-30T19:28:31.025Z"
   },
   {
    "duration": 9,
    "start_time": "2022-08-30T19:28:42.908Z"
   },
   {
    "duration": 64,
    "start_time": "2022-08-30T19:45:30.003Z"
   },
   {
    "duration": 52,
    "start_time": "2022-08-30T19:46:06.633Z"
   },
   {
    "duration": 103,
    "start_time": "2022-08-30T19:46:24.158Z"
   },
   {
    "duration": 167,
    "start_time": "2022-08-30T19:47:19.652Z"
   },
   {
    "duration": 107,
    "start_time": "2022-08-30T19:47:49.305Z"
   },
   {
    "duration": 5,
    "start_time": "2022-08-30T19:48:38.974Z"
   },
   {
    "duration": 8,
    "start_time": "2022-08-30T19:48:41.000Z"
   },
   {
    "duration": 11,
    "start_time": "2022-08-30T19:49:05.473Z"
   },
   {
    "duration": 5,
    "start_time": "2022-08-30T19:49:18.583Z"
   },
   {
    "duration": 11,
    "start_time": "2022-08-30T19:49:20.117Z"
   },
   {
    "duration": 1123,
    "start_time": "2022-08-30T19:49:57.424Z"
   },
   {
    "duration": 255,
    "start_time": "2022-08-30T19:49:58.549Z"
   },
   {
    "duration": 31,
    "start_time": "2022-08-30T19:49:58.806Z"
   },
   {
    "duration": 13,
    "start_time": "2022-08-30T19:49:58.839Z"
   },
   {
    "duration": 45,
    "start_time": "2022-08-30T19:49:58.854Z"
   },
   {
    "duration": 10,
    "start_time": "2022-08-30T19:49:58.902Z"
   },
   {
    "duration": 18,
    "start_time": "2022-08-30T19:49:58.914Z"
   },
   {
    "duration": 37,
    "start_time": "2022-08-30T19:49:58.934Z"
   },
   {
    "duration": 46,
    "start_time": "2022-08-30T19:49:58.972Z"
   },
   {
    "duration": 14,
    "start_time": "2022-08-30T19:49:59.020Z"
   },
   {
    "duration": 9,
    "start_time": "2022-08-30T19:49:59.036Z"
   },
   {
    "duration": 92,
    "start_time": "2022-08-30T19:49:59.047Z"
   },
   {
    "duration": 150,
    "start_time": "2022-08-30T19:49:59.140Z"
   },
   {
    "duration": 34,
    "start_time": "2022-08-30T19:49:59.291Z"
   },
   {
    "duration": 25,
    "start_time": "2022-08-30T19:49:59.327Z"
   },
   {
    "duration": 12,
    "start_time": "2022-08-30T19:49:59.354Z"
   },
   {
    "duration": 35,
    "start_time": "2022-08-30T19:49:59.367Z"
   },
   {
    "duration": 20,
    "start_time": "2022-08-30T19:49:59.403Z"
   },
   {
    "duration": 130,
    "start_time": "2022-08-30T19:49:59.424Z"
   },
   {
    "duration": 24,
    "start_time": "2022-08-30T19:49:59.555Z"
   },
   {
    "duration": 18,
    "start_time": "2022-08-30T19:49:59.581Z"
   },
   {
    "duration": 8,
    "start_time": "2022-08-30T19:49:59.600Z"
   },
   {
    "duration": 4,
    "start_time": "2022-08-30T19:49:59.610Z"
   },
   {
    "duration": 13,
    "start_time": "2022-08-30T19:49:59.616Z"
   },
   {
    "duration": 9,
    "start_time": "2022-08-30T19:49:59.631Z"
   },
   {
    "duration": 20,
    "start_time": "2022-08-30T19:49:59.641Z"
   },
   {
    "duration": 29,
    "start_time": "2022-08-30T19:49:59.663Z"
   },
   {
    "duration": 28,
    "start_time": "2022-08-30T19:49:59.701Z"
   },
   {
    "duration": 33,
    "start_time": "2022-08-30T19:49:59.731Z"
   },
   {
    "duration": 33,
    "start_time": "2022-08-30T19:49:59.766Z"
   },
   {
    "duration": 285,
    "start_time": "2022-08-30T19:49:59.801Z"
   },
   {
    "duration": 45,
    "start_time": "2022-08-30T19:50:00.087Z"
   },
   {
    "duration": 81,
    "start_time": "2022-08-30T19:50:00.134Z"
   },
   {
    "duration": 90,
    "start_time": "2022-08-30T19:50:00.217Z"
   },
   {
    "duration": 35,
    "start_time": "2022-08-30T19:50:00.308Z"
   },
   {
    "duration": 31,
    "start_time": "2022-08-30T19:50:00.344Z"
   },
   {
    "duration": 69,
    "start_time": "2022-08-30T19:50:00.376Z"
   },
   {
    "duration": 7,
    "start_time": "2022-08-30T19:50:00.447Z"
   },
   {
    "duration": 28,
    "start_time": "2022-08-30T19:50:00.455Z"
   },
   {
    "duration": 76,
    "start_time": "2022-08-30T19:50:00.498Z"
   },
   {
    "duration": 46,
    "start_time": "2022-08-30T19:50:00.576Z"
   },
   {
    "duration": 86,
    "start_time": "2022-08-30T19:50:00.623Z"
   },
   {
    "duration": 16,
    "start_time": "2022-08-30T19:50:00.711Z"
   },
   {
    "duration": 71,
    "start_time": "2022-08-30T19:50:00.728Z"
   },
   {
    "duration": 10,
    "start_time": "2022-08-30T19:50:00.800Z"
   },
   {
    "duration": 23,
    "start_time": "2022-08-30T19:50:00.811Z"
   },
   {
    "duration": 17,
    "start_time": "2022-08-30T19:50:00.835Z"
   },
   {
    "duration": 358,
    "start_time": "2022-08-30T19:50:00.854Z"
   },
   {
    "duration": 9,
    "start_time": "2022-08-30T19:50:01.214Z"
   },
   {
    "duration": 175,
    "start_time": "2022-08-30T19:50:01.225Z"
   },
   {
    "duration": 58,
    "start_time": "2022-08-30T19:50:01.402Z"
   },
   {
    "duration": 8,
    "start_time": "2022-08-30T19:50:01.461Z"
   },
   {
    "duration": 70,
    "start_time": "2022-08-30T19:50:01.471Z"
   },
   {
    "duration": 134,
    "start_time": "2022-08-30T19:50:01.542Z"
   },
   {
    "duration": 5,
    "start_time": "2022-08-30T19:50:54.174Z"
   },
   {
    "duration": 9,
    "start_time": "2022-08-30T19:50:54.754Z"
   },
   {
    "duration": 5,
    "start_time": "2022-08-30T19:52:28.909Z"
   },
   {
    "duration": 14,
    "start_time": "2022-08-30T19:52:29.516Z"
   },
   {
    "duration": 1115,
    "start_time": "2022-08-30T19:54:51.652Z"
   },
   {
    "duration": 247,
    "start_time": "2022-08-30T19:54:52.769Z"
   },
   {
    "duration": 31,
    "start_time": "2022-08-30T19:54:53.018Z"
   },
   {
    "duration": 12,
    "start_time": "2022-08-30T19:54:53.052Z"
   },
   {
    "duration": 37,
    "start_time": "2022-08-30T19:54:53.065Z"
   },
   {
    "duration": 9,
    "start_time": "2022-08-30T19:54:53.104Z"
   },
   {
    "duration": 26,
    "start_time": "2022-08-30T19:54:53.114Z"
   },
   {
    "duration": 35,
    "start_time": "2022-08-30T19:54:53.142Z"
   },
   {
    "duration": 35,
    "start_time": "2022-08-30T19:54:53.179Z"
   },
   {
    "duration": 13,
    "start_time": "2022-08-30T19:54:53.218Z"
   },
   {
    "duration": 11,
    "start_time": "2022-08-30T19:54:53.232Z"
   },
   {
    "duration": 87,
    "start_time": "2022-08-30T19:54:53.244Z"
   },
   {
    "duration": 174,
    "start_time": "2022-08-30T19:54:53.332Z"
   },
   {
    "duration": 23,
    "start_time": "2022-08-30T19:54:53.507Z"
   },
   {
    "duration": 36,
    "start_time": "2022-08-30T19:54:53.531Z"
   },
   {
    "duration": 18,
    "start_time": "2022-08-30T19:54:53.569Z"
   },
   {
    "duration": 20,
    "start_time": "2022-08-30T19:54:53.588Z"
   },
   {
    "duration": 19,
    "start_time": "2022-08-30T19:54:53.609Z"
   },
   {
    "duration": 132,
    "start_time": "2022-08-30T19:54:53.629Z"
   },
   {
    "duration": 25,
    "start_time": "2022-08-30T19:54:53.763Z"
   },
   {
    "duration": 9,
    "start_time": "2022-08-30T19:54:53.798Z"
   },
   {
    "duration": 12,
    "start_time": "2022-08-30T19:54:53.808Z"
   },
   {
    "duration": 8,
    "start_time": "2022-08-30T19:54:53.822Z"
   },
   {
    "duration": 10,
    "start_time": "2022-08-30T19:54:53.831Z"
   },
   {
    "duration": 9,
    "start_time": "2022-08-30T19:54:53.843Z"
   },
   {
    "duration": 10,
    "start_time": "2022-08-30T19:54:53.853Z"
   },
   {
    "duration": 34,
    "start_time": "2022-08-30T19:54:53.864Z"
   },
   {
    "duration": 27,
    "start_time": "2022-08-30T19:54:53.903Z"
   },
   {
    "duration": 39,
    "start_time": "2022-08-30T19:54:53.931Z"
   },
   {
    "duration": 5,
    "start_time": "2022-08-30T19:54:53.971Z"
   },
   {
    "duration": 298,
    "start_time": "2022-08-30T19:54:53.977Z"
   },
   {
    "duration": 45,
    "start_time": "2022-08-30T19:54:54.276Z"
   },
   {
    "duration": 49,
    "start_time": "2022-08-30T19:54:54.323Z"
   },
   {
    "duration": 125,
    "start_time": "2022-08-30T19:54:54.373Z"
   },
   {
    "duration": 45,
    "start_time": "2022-08-30T19:54:54.501Z"
   },
   {
    "duration": 66,
    "start_time": "2022-08-30T19:54:54.548Z"
   },
   {
    "duration": 63,
    "start_time": "2022-08-30T19:54:54.616Z"
   },
   {
    "duration": 19,
    "start_time": "2022-08-30T19:54:54.680Z"
   },
   {
    "duration": 20,
    "start_time": "2022-08-30T19:54:54.700Z"
   },
   {
    "duration": 96,
    "start_time": "2022-08-30T19:54:54.722Z"
   },
   {
    "duration": 39,
    "start_time": "2022-08-30T19:54:54.820Z"
   },
   {
    "duration": 105,
    "start_time": "2022-08-30T19:54:54.861Z"
   },
   {
    "duration": 18,
    "start_time": "2022-08-30T19:54:54.968Z"
   },
   {
    "duration": 58,
    "start_time": "2022-08-30T19:54:54.998Z"
   },
   {
    "duration": 9,
    "start_time": "2022-08-30T19:54:55.057Z"
   },
   {
    "duration": 33,
    "start_time": "2022-08-30T19:54:55.068Z"
   },
   {
    "duration": 13,
    "start_time": "2022-08-30T19:54:55.102Z"
   },
   {
    "duration": 332,
    "start_time": "2022-08-30T19:54:55.117Z"
   },
   {
    "duration": 7,
    "start_time": "2022-08-30T19:54:55.451Z"
   },
   {
    "duration": 163,
    "start_time": "2022-08-30T19:54:55.460Z"
   },
   {
    "duration": 55,
    "start_time": "2022-08-30T19:54:55.625Z"
   },
   {
    "duration": 23,
    "start_time": "2022-08-30T19:54:55.682Z"
   },
   {
    "duration": 11,
    "start_time": "2022-08-30T19:54:55.706Z"
   },
   {
    "duration": 15,
    "start_time": "2022-08-30T19:54:55.718Z"
   },
   {
    "duration": 1107,
    "start_time": "2022-08-30T20:07:04.944Z"
   },
   {
    "duration": 244,
    "start_time": "2022-08-30T20:07:06.053Z"
   },
   {
    "duration": 30,
    "start_time": "2022-08-30T20:07:06.299Z"
   },
   {
    "duration": 10,
    "start_time": "2022-08-30T20:07:06.331Z"
   },
   {
    "duration": 25,
    "start_time": "2022-08-30T20:07:06.343Z"
   },
   {
    "duration": 30,
    "start_time": "2022-08-30T20:07:06.369Z"
   },
   {
    "duration": 11,
    "start_time": "2022-08-30T20:07:06.401Z"
   },
   {
    "duration": 24,
    "start_time": "2022-08-30T20:07:06.413Z"
   },
   {
    "duration": 28,
    "start_time": "2022-08-30T20:07:06.439Z"
   },
   {
    "duration": 15,
    "start_time": "2022-08-30T20:07:06.501Z"
   },
   {
    "duration": 12,
    "start_time": "2022-08-30T20:07:06.518Z"
   },
   {
    "duration": 92,
    "start_time": "2022-08-30T20:07:06.532Z"
   },
   {
    "duration": 165,
    "start_time": "2022-08-30T20:07:06.625Z"
   },
   {
    "duration": 24,
    "start_time": "2022-08-30T20:07:06.791Z"
   },
   {
    "duration": 26,
    "start_time": "2022-08-30T20:07:06.816Z"
   },
   {
    "duration": 17,
    "start_time": "2022-08-30T20:07:06.844Z"
   },
   {
    "duration": 36,
    "start_time": "2022-08-30T20:07:06.863Z"
   },
   {
    "duration": 21,
    "start_time": "2022-08-30T20:07:06.900Z"
   },
   {
    "duration": 135,
    "start_time": "2022-08-30T20:07:06.923Z"
   },
   {
    "duration": 25,
    "start_time": "2022-08-30T20:07:07.060Z"
   },
   {
    "duration": 10,
    "start_time": "2022-08-30T20:07:07.098Z"
   },
   {
    "duration": 24,
    "start_time": "2022-08-30T20:07:07.109Z"
   },
   {
    "duration": 6,
    "start_time": "2022-08-30T20:07:07.134Z"
   },
   {
    "duration": 10,
    "start_time": "2022-08-30T20:07:07.141Z"
   },
   {
    "duration": 9,
    "start_time": "2022-08-30T20:07:07.152Z"
   },
   {
    "duration": 6,
    "start_time": "2022-08-30T20:07:07.163Z"
   },
   {
    "duration": 33,
    "start_time": "2022-08-30T20:07:07.170Z"
   },
   {
    "duration": 27,
    "start_time": "2022-08-30T20:07:07.207Z"
   },
   {
    "duration": 33,
    "start_time": "2022-08-30T20:07:07.236Z"
   },
   {
    "duration": 31,
    "start_time": "2022-08-30T20:07:07.270Z"
   },
   {
    "duration": 299,
    "start_time": "2022-08-30T20:07:07.303Z"
   },
   {
    "duration": 43,
    "start_time": "2022-08-30T20:07:07.604Z"
   },
   {
    "duration": 70,
    "start_time": "2022-08-30T20:07:07.649Z"
   },
   {
    "duration": 106,
    "start_time": "2022-08-30T20:07:07.720Z"
   },
   {
    "duration": 30,
    "start_time": "2022-08-30T20:07:07.827Z"
   },
   {
    "duration": 49,
    "start_time": "2022-08-30T20:07:07.858Z"
   },
   {
    "duration": 53,
    "start_time": "2022-08-30T20:07:07.909Z"
   },
   {
    "duration": 11,
    "start_time": "2022-08-30T20:07:07.963Z"
   },
   {
    "duration": 43,
    "start_time": "2022-08-30T20:07:07.975Z"
   },
   {
    "duration": 100,
    "start_time": "2022-08-30T20:07:08.020Z"
   },
   {
    "duration": 36,
    "start_time": "2022-08-30T20:07:08.122Z"
   },
   {
    "duration": 93,
    "start_time": "2022-08-30T20:07:08.159Z"
   },
   {
    "duration": 17,
    "start_time": "2022-08-30T20:07:08.254Z"
   },
   {
    "duration": 65,
    "start_time": "2022-08-30T20:07:08.273Z"
   },
   {
    "duration": 10,
    "start_time": "2022-08-30T20:07:08.339Z"
   },
   {
    "duration": 13,
    "start_time": "2022-08-30T20:07:08.350Z"
   },
   {
    "duration": 39,
    "start_time": "2022-08-30T20:07:08.365Z"
   },
   {
    "duration": 340,
    "start_time": "2022-08-30T20:07:08.406Z"
   },
   {
    "duration": 9,
    "start_time": "2022-08-30T20:07:08.749Z"
   },
   {
    "duration": 178,
    "start_time": "2022-08-30T20:07:08.760Z"
   },
   {
    "duration": 75,
    "start_time": "2022-08-30T20:07:08.940Z"
   },
   {
    "duration": 8,
    "start_time": "2022-08-30T20:07:09.016Z"
   },
   {
    "duration": 9,
    "start_time": "2022-08-30T20:07:09.025Z"
   },
   {
    "duration": 25,
    "start_time": "2022-08-30T20:07:09.036Z"
   },
   {
    "duration": 72,
    "start_time": "2022-08-30T20:26:10.444Z"
   },
   {
    "duration": 1086,
    "start_time": "2022-08-30T20:40:50.050Z"
   },
   {
    "duration": 250,
    "start_time": "2022-08-30T20:40:51.138Z"
   },
   {
    "duration": 30,
    "start_time": "2022-08-30T20:40:51.389Z"
   },
   {
    "duration": 13,
    "start_time": "2022-08-30T20:40:51.421Z"
   },
   {
    "duration": 27,
    "start_time": "2022-08-30T20:40:51.436Z"
   },
   {
    "duration": 37,
    "start_time": "2022-08-30T20:40:51.465Z"
   },
   {
    "duration": 10,
    "start_time": "2022-08-30T20:40:51.504Z"
   },
   {
    "duration": 21,
    "start_time": "2022-08-30T20:40:51.516Z"
   },
   {
    "duration": 60,
    "start_time": "2022-08-30T20:40:51.539Z"
   },
   {
    "duration": 13,
    "start_time": "2022-08-30T20:40:51.601Z"
   },
   {
    "duration": 11,
    "start_time": "2022-08-30T20:40:51.615Z"
   },
   {
    "duration": 90,
    "start_time": "2022-08-30T20:40:51.627Z"
   },
   {
    "duration": 161,
    "start_time": "2022-08-30T20:40:51.718Z"
   },
   {
    "duration": 29,
    "start_time": "2022-08-30T20:40:51.881Z"
   },
   {
    "duration": 26,
    "start_time": "2022-08-30T20:40:51.912Z"
   },
   {
    "duration": 16,
    "start_time": "2022-08-30T20:40:51.940Z"
   },
   {
    "duration": 42,
    "start_time": "2022-08-30T20:40:51.958Z"
   },
   {
    "duration": 18,
    "start_time": "2022-08-30T20:40:52.001Z"
   },
   {
    "duration": 116,
    "start_time": "2022-08-30T20:40:52.021Z"
   },
   {
    "duration": 25,
    "start_time": "2022-08-30T20:40:52.138Z"
   },
   {
    "duration": 8,
    "start_time": "2022-08-30T20:40:52.164Z"
   },
   {
    "duration": 27,
    "start_time": "2022-08-30T20:40:52.173Z"
   },
   {
    "duration": 4,
    "start_time": "2022-08-30T20:40:52.201Z"
   },
   {
    "duration": 10,
    "start_time": "2022-08-30T20:40:52.206Z"
   },
   {
    "duration": 8,
    "start_time": "2022-08-30T20:40:52.218Z"
   },
   {
    "duration": 10,
    "start_time": "2022-08-30T20:40:52.227Z"
   },
   {
    "duration": 9,
    "start_time": "2022-08-30T20:40:52.238Z"
   },
   {
    "duration": 60,
    "start_time": "2022-08-30T20:40:52.248Z"
   },
   {
    "duration": 30,
    "start_time": "2022-08-30T20:40:52.309Z"
   },
   {
    "duration": 4,
    "start_time": "2022-08-30T20:40:52.341Z"
   },
   {
    "duration": 293,
    "start_time": "2022-08-30T20:40:52.346Z"
   },
   {
    "duration": 39,
    "start_time": "2022-08-30T20:40:52.640Z"
   },
   {
    "duration": 68,
    "start_time": "2022-08-30T20:40:52.680Z"
   },
   {
    "duration": 91,
    "start_time": "2022-08-30T20:40:52.749Z"
   },
   {
    "duration": 40,
    "start_time": "2022-08-30T20:40:52.842Z"
   },
   {
    "duration": 42,
    "start_time": "2022-08-30T20:40:52.884Z"
   },
   {
    "duration": 51,
    "start_time": "2022-08-30T20:40:52.928Z"
   },
   {
    "duration": 8,
    "start_time": "2022-08-30T20:40:52.998Z"
   },
   {
    "duration": 19,
    "start_time": "2022-08-30T20:40:53.008Z"
   },
   {
    "duration": 108,
    "start_time": "2022-08-30T20:40:53.028Z"
   },
   {
    "duration": 37,
    "start_time": "2022-08-30T20:40:53.141Z"
   },
   {
    "duration": 86,
    "start_time": "2022-08-30T20:40:53.180Z"
   },
   {
    "duration": 31,
    "start_time": "2022-08-30T20:40:53.268Z"
   },
   {
    "duration": 53,
    "start_time": "2022-08-30T20:40:53.301Z"
   },
   {
    "duration": 10,
    "start_time": "2022-08-30T20:40:53.355Z"
   },
   {
    "duration": 41,
    "start_time": "2022-08-30T20:40:53.366Z"
   },
   {
    "duration": 12,
    "start_time": "2022-08-30T20:40:53.408Z"
   },
   {
    "duration": 321,
    "start_time": "2022-08-30T20:40:53.421Z"
   },
   {
    "duration": 8,
    "start_time": "2022-08-30T20:40:53.743Z"
   },
   {
    "duration": 158,
    "start_time": "2022-08-30T20:40:53.753Z"
   },
   {
    "duration": 57,
    "start_time": "2022-08-30T20:40:53.913Z"
   },
   {
    "duration": 8,
    "start_time": "2022-08-30T20:40:53.971Z"
   },
   {
    "duration": 20,
    "start_time": "2022-08-30T20:40:53.980Z"
   },
   {
    "duration": 15,
    "start_time": "2022-08-30T20:40:54.001Z"
   },
   {
    "duration": 1437,
    "start_time": "2022-08-31T17:55:31.360Z"
   },
   {
    "duration": 688,
    "start_time": "2022-08-31T17:55:32.799Z"
   },
   {
    "duration": 49,
    "start_time": "2022-08-31T17:55:33.489Z"
   },
   {
    "duration": 11,
    "start_time": "2022-08-31T17:55:33.540Z"
   },
   {
    "duration": 79,
    "start_time": "2022-08-31T17:55:33.552Z"
   },
   {
    "duration": 9,
    "start_time": "2022-08-31T17:55:33.633Z"
   },
   {
    "duration": 12,
    "start_time": "2022-08-31T17:55:33.644Z"
   },
   {
    "duration": 24,
    "start_time": "2022-08-31T17:55:33.710Z"
   },
   {
    "duration": 75,
    "start_time": "2022-08-31T17:55:33.736Z"
   },
   {
    "duration": 16,
    "start_time": "2022-08-31T17:55:33.813Z"
   },
   {
    "duration": 11,
    "start_time": "2022-08-31T17:55:33.830Z"
   },
   {
    "duration": 182,
    "start_time": "2022-08-31T17:55:33.842Z"
   },
   {
    "duration": 331,
    "start_time": "2022-08-31T17:55:34.026Z"
   },
   {
    "duration": 23,
    "start_time": "2022-08-31T17:55:34.410Z"
   },
   {
    "duration": 77,
    "start_time": "2022-08-31T17:55:34.435Z"
   },
   {
    "duration": 14,
    "start_time": "2022-08-31T17:55:34.513Z"
   },
   {
    "duration": 13,
    "start_time": "2022-08-31T17:55:34.529Z"
   },
   {
    "duration": 73,
    "start_time": "2022-08-31T17:55:34.543Z"
   },
   {
    "duration": 225,
    "start_time": "2022-08-31T17:55:34.618Z"
   },
   {
    "duration": 72,
    "start_time": "2022-08-31T17:55:34.845Z"
   },
   {
    "duration": 11,
    "start_time": "2022-08-31T17:55:34.919Z"
   },
   {
    "duration": 13,
    "start_time": "2022-08-31T17:55:34.932Z"
   },
   {
    "duration": 7,
    "start_time": "2022-08-31T17:55:34.947Z"
   },
   {
    "duration": 11,
    "start_time": "2022-08-31T17:55:34.956Z"
   },
   {
    "duration": 40,
    "start_time": "2022-08-31T17:55:34.969Z"
   },
   {
    "duration": 14,
    "start_time": "2022-08-31T17:55:35.011Z"
   },
   {
    "duration": 10,
    "start_time": "2022-08-31T17:55:35.027Z"
   },
   {
    "duration": 37,
    "start_time": "2022-08-31T17:55:35.040Z"
   },
   {
    "duration": 48,
    "start_time": "2022-08-31T17:55:35.079Z"
   },
   {
    "duration": 4,
    "start_time": "2022-08-31T17:55:35.129Z"
   },
   {
    "duration": 287,
    "start_time": "2022-08-31T17:55:35.135Z"
   },
   {
    "duration": 44,
    "start_time": "2022-08-31T17:55:35.423Z"
   },
   {
    "duration": 46,
    "start_time": "2022-08-31T17:55:35.469Z"
   },
   {
    "duration": 47,
    "start_time": "2022-08-31T17:55:35.517Z"
   },
   {
    "duration": 151,
    "start_time": "2022-08-31T17:55:35.565Z"
   },
   {
    "duration": 38,
    "start_time": "2022-08-31T17:55:35.718Z"
   },
   {
    "duration": 64,
    "start_time": "2022-08-31T17:55:35.757Z"
   },
   {
    "duration": 56,
    "start_time": "2022-08-31T17:55:35.822Z"
   },
   {
    "duration": 9,
    "start_time": "2022-08-31T17:55:35.880Z"
   },
   {
    "duration": 42,
    "start_time": "2022-08-31T17:55:35.890Z"
   },
   {
    "duration": 104,
    "start_time": "2022-08-31T17:55:35.934Z"
   },
   {
    "duration": 39,
    "start_time": "2022-08-31T17:55:36.039Z"
   },
   {
    "duration": 101,
    "start_time": "2022-08-31T17:55:36.080Z"
   },
   {
    "duration": 27,
    "start_time": "2022-08-31T17:55:36.183Z"
   },
   {
    "duration": 61,
    "start_time": "2022-08-31T17:55:36.211Z"
   },
   {
    "duration": 10,
    "start_time": "2022-08-31T17:55:36.274Z"
   },
   {
    "duration": 30,
    "start_time": "2022-08-31T17:55:36.285Z"
   },
   {
    "duration": 22,
    "start_time": "2022-08-31T17:55:36.316Z"
   },
   {
    "duration": 473,
    "start_time": "2022-08-31T17:55:36.340Z"
   },
   {
    "duration": 8,
    "start_time": "2022-08-31T17:55:36.814Z"
   },
   {
    "duration": 193,
    "start_time": "2022-08-31T17:55:36.823Z"
   },
   {
    "duration": 64,
    "start_time": "2022-08-31T17:55:37.018Z"
   },
   {
    "duration": 31,
    "start_time": "2022-08-31T17:55:37.083Z"
   },
   {
    "duration": 24,
    "start_time": "2022-08-31T17:55:37.116Z"
   },
   {
    "duration": 30,
    "start_time": "2022-08-31T17:55:37.142Z"
   },
   {
    "duration": 1220,
    "start_time": "2022-08-31T17:58:44.234Z"
   }
  ],
  "kernelspec": {
   "display_name": "Python 3 (ipykernel)",
   "language": "python",
   "name": "python3"
  },
  "language_info": {
   "codemirror_mode": {
    "name": "ipython",
    "version": 3
   },
   "file_extension": ".py",
   "mimetype": "text/x-python",
   "name": "python",
   "nbconvert_exporter": "python",
   "pygments_lexer": "ipython3",
   "version": "3.9.5"
  },
  "toc": {
   "base_numbering": 1,
   "nav_menu": {},
   "number_sections": true,
   "sideBar": true,
   "skip_h1_title": true,
   "title_cell": "Table of Contents",
   "title_sidebar": "Contents",
   "toc_cell": false,
   "toc_position": {},
   "toc_section_display": true,
   "toc_window_display": true
  }
 },
 "nbformat": 4,
 "nbformat_minor": 2
}
